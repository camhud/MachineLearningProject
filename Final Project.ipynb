{
 "cells": [
  {
   "cell_type": "code",
   "execution_count": 1,
   "metadata": {},
   "outputs": [],
   "source": [
    "import numpy as np\n",
    "import pandas as pd\n",
    "import matplotlib.pyplot as plt\n",
    "import tensorflow as tf\n",
    "# from tensorflow import keras \n",
    "\n",
    "# Run in anaconda prompt first:\n",
    "# conda install -c conda-forge librosa\n",
    "import librosa\n",
    "import librosa.display\n",
    "\n",
    "#from sklearn.ensemble import RandomForestClassifier\n",
    "from sklearn.decomposition import PCA\n",
    "from sklearn.svm import SVC"
   ]
  },
  {
   "cell_type": "code",
   "execution_count": 2,
   "metadata": {},
   "outputs": [],
   "source": [
    "# Make sure you have the following files in the same directory as this ipynb:\n",
    "# 1. nsynth-test.tfrecord\n",
    "# 2. nsynth-train.tfrecord\n",
    "# 3. nsynth-valid.tfrecord\n",
    "\n",
    "nsynth_test = tf.data.TFRecordDataset(['nsynth-test.tfrecord'])\n",
    "nsynth_train = tf.data.TFRecordDataset(['nsynth-train.tfrecord'])"
   ]
  },
  {
   "cell_type": "code",
   "execution_count": 3,
   "metadata": {},
   "outputs": [],
   "source": [
    "def get_features(record):\n",
    "    # We're only going to use a few features for now\n",
    "    features = {\n",
    "        # identifier string, this will be our label\n",
    "        #\"note_str\": tf.io.FixedLenFeature(shape=[], dtype=tf.string),\n",
    "        # MIDI tuning standard value for pitch\n",
    "        \"pitch\": tf.io.FixedLenFeature(shape=[], dtype=tf.int64),\n",
    "        # list of normalized audio 'samples' to represent the sound wave\n",
    "        \"audio\": tf.io.FixedLenFeature(shape=[64000], dtype=tf.float32)\n",
    "    }\n",
    "    sample = tf.io.parse_single_example(record, features)\n",
    "    \n",
    "    return sample"
   ]
  },
  {
   "cell_type": "code",
   "execution_count": 4,
   "metadata": {},
   "outputs": [],
   "source": [
    "test_ds = list(nsynth_test.take(1000).map(get_features))"
   ]
  },
  {
   "cell_type": "code",
   "execution_count": 5,
   "metadata": {},
   "outputs": [],
   "source": [
    "# Note about how our audio feature is structured:\n",
    "#\n",
    "# 4 seconds * 16000 samples per second = 64000 samples\n",
    "# We only have one channel (these sound clips are mono)\n",
    "# Dynamic range of 16-bit PCM WAV (-2^15, 2^15 - 1) normalized to (-1, 1)\n",
    "\n",
    "\n",
    "# We get the first sample in our test dataset as an example\n",
    "clip1 = test_ds[0]['audio']"
   ]
  },
  {
   "cell_type": "code",
   "execution_count": 6,
   "metadata": {},
   "outputs": [
    {
     "data": {
      "text/plain": [
       "<matplotlib.collections.QuadMesh at 0x1f471f05ee0>"
      ]
     },
     "execution_count": 6,
     "metadata": {},
     "output_type": "execute_result"
    },
    {
     "data": {
      "image/png": "[encoded data removed]",
      "text/plain": [
       "<Figure size 432x288 with 1 Axes>"
      ]
     },
     "metadata": {
      "needs_background": "light"
     },
     "output_type": "display_data"
    }
   ],
   "source": [
    "D = librosa.amplitude_to_db(np.abs(librosa.stft(np.array(clip1))), ref=np.max)\n",
    "librosa.display.specshow(D, y_axis='linear', x_axis='time',sr=16000)"
   ]
  },
  {
   "cell_type": "code",
   "execution_count": 7,
   "metadata": {},
   "outputs": [
    {
     "name": "stdout",
     "output_type": "stream",
     "text": [
      "Frequency:  2637.02045530296\n",
      "Note:  E7\n"
     ]
    }
   ],
   "source": [
    "# temporarily borrowing code just for demonstration purposes\n",
    "\n",
    "def midi_pitch_to_frequency(d):\n",
    "    return (2**((d-69)/12.0))*440.0\n",
    "\n",
    "from math import log2, pow\n",
    "\n",
    "A4 = 440\n",
    "C0 = A4*pow(2, -4.75)\n",
    "name = [\"C\", \"C#\", \"D\", \"D#\", \"E\", \"F\", \"F#\", \"G\", \"G#\", \"A\", \"A#\", \"B\"]\n",
    "    \n",
    "def pitch(freq):\n",
    "    h = round(12*log2(freq/C0))\n",
    "    octave = h // 12\n",
    "    n = h % 12\n",
    "    return name[n] + str(octave)\n",
    "\n",
    "f = midi_pitch_to_frequency(100)\n",
    "print(\"Frequency: \", f)\n",
    "print(\"Note: \", pitch(f))"
   ]
  },
  {
   "cell_type": "code",
   "execution_count": 8,
   "metadata": {},
   "outputs": [
    {
     "data": {
      "text/plain": [
       "<tf.Tensor: shape=(), dtype=int64, numpy=100>"
      ]
     },
     "execution_count": 8,
     "metadata": {},
     "output_type": "execute_result"
    }
   ],
   "source": [
    "test_ds[0]['pitch']\n",
    "# We can observe a few things from the previous 3 results:\n",
    "\n",
    "# 1. Our first audio clip has midi pitch value 100, which encodes the note E7. \n",
    "# 2. The note E7 has the fundamental frequency 2637 Hz.\n",
    "# 3. The spectogram above has frequency ~2700 Hz most represented."
   ]
  },
  {
   "cell_type": "code",
   "execution_count": 9,
   "metadata": {},
   "outputs": [],
   "source": [
    "# We trimmed 4096 test samples down to 1000 \n",
    "x_test = np.array([np.array(test_ds[i]['audio']) for i in range(len(test_ds))])\n",
    "y_test = np.array([np.array(test_ds[i]['pitch']) for i in range(len(test_ds))])\n",
    "\n",
    "# Trim 289,205 training samples down to 10,000\n",
    "# Too many samples takes too long to load and uses a lot of RAM\n",
    "train_ds = list(nsynth_train.take(20000).map(get_features))\n",
    "x_train = np.array([np.array(train_ds[i]['audio']) for i in range(len(train_ds))])\n",
    "y_train = np.array([np.array(train_ds[i]['pitch']) for i in range(len(train_ds))])"
   ]
  },
  {
   "cell_type": "code",
   "execution_count": 10,
   "metadata": {},
   "outputs": [],
   "source": [
    "#pca = PCA(n_components=100) #64000 dimensions => 2 dimensions\n",
    "#pca_x_test = pca.fit_transform(x_test)\n",
    "#pca_x_train = pca.fit_transform(x_train)"
   ]
  },
  {
   "cell_type": "code",
   "execution_count": null,
   "metadata": {},
   "outputs": [],
   "source": [
    "#random_forest_predict = random_forest_clf.predict(pca_x_test)\n",
    "#random_forest_clf = RandomForestClassifier(n_estimators=100)\n",
    "#random_forest_clf.fit(pca_x_train, y_train)\n",
    "\n",
    "svm_clf = SVC()\n",
    "svm_clf.fit(x_train, y_train)\n",
    "svm_y_predict = svm_clf.predict(x_test)"
   ]
  },
  {
   "cell_type": "code",
   "execution_count": null,
   "metadata": {},
   "outputs": [],
   "source": [
    "from sklearn.metrics import confusion_matrix, classification_report\n",
    "\n",
    "#random_forest_cm = confusion_matrix(y_test, random_forest_predict)\n",
    "#random_forest_cm\n",
    "svm_cm = confusion_matrix(y_test, svm_y_predict)\n",
    "mycolumns = [\"Target: \" + str(i) for i in range(10,108)]\n",
    "myindices = [\"Predict: \" + str(i) for i in range(10,108)]\n",
    "svm_cm_df = pd.DataFrame(svm_cm, index=myindices, columns=mycolumns)\n",
    "svm_cm_df"
   ]
  },
  {
   "cell_type": "code",
   "execution_count": null,
   "metadata": {},
   "outputs": [],
   "source": [
    "#print(classification_report(y_test, random_forest_predict))\n",
    "print(classification_report(y_test, svm_y_predict))"
   ]
  },
  {
   "cell_type": "code",
   "execution_count": null,
   "metadata": {},
   "outputs": [],
   "source": []
  }
 ],
 "metadata": {
  "kernelspec": {
   "display_name": "Python 3",
   "language": "python",
   "name": "python3"
  },
  "language_info": {
   "codemirror_mode": {
    "name": "ipython",
    "version": 3
   },
   "file_extension": ".py",
   "mimetype": "text/x-python",
   "name": "python",
   "nbconvert_exporter": "python",
   "pygments_lexer": "ipython3",
   "version": "3.8.3"
  }
 },
 "nbformat": 4,
 "nbformat_minor": 4
}
