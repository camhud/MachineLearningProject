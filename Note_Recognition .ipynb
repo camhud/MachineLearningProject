{
 "cells": [
  {
   "cell_type": "code",
   "execution_count": 2,
   "metadata": {},
   "outputs": [],
   "source": [
    "import numpy as np\n",
    "import pandas as pd\n",
    "import seaborn as sns\n",
    "import matplotlib.pyplot as plt\n",
    "import tensorflow as tf\n",
    "tf.config.run_functions_eagerly(True)\n",
    "import os\n",
    "import pathlib\n",
    "# tensorflow 2.\n",
    "\n",
    "# Run in anaconda prompt first:\n",
    "# conda install -c conda-forge librosa\n",
    "import librosa\n",
    "import librosa.display\n",
    "\n",
    "#from sklearn.ensemble import RandomForestClassifier\n",
    "from sklearn.decomposition import PCA\n",
    "from sklearn.svm import SVC\n",
    "\n",
    "from tensorflow import keras \n",
    "from tensorflow.keras.layers.experimental import preprocessing\n",
    "from tensorflow.keras.models import Sequential \n",
    "from tensorflow.keras import optimizers\n",
    "from tensorflow.keras import layers\n",
    "from tensorflow.keras import models\n",
    "from IPython import display\n",
    "from sklearn.metrics import confusion_matrix, classification_report\n",
    "\n",
    "\n",
    "# Set seed for experiment reproducibility\n",
    "seed = 42\n",
    "tf.random.set_seed(seed)\n",
    "np.random.seed(seed)"
   ]
  },
  {
   "cell_type": "code",
   "execution_count": 3,
   "metadata": {},
   "outputs": [
    {
     "name": "stderr",
     "output_type": "stream",
     "text": [
      "/Users/cameronhudson/opt/anaconda3/lib/python3.8/site-packages/tensorflow/python/data/ops/dataset_ops.py:3349: UserWarning: Even though the tf.config.experimental_run_functions_eagerly option is set, this option does not apply to tf.data functions. tf.data functions are still traced and executed as graphs.\n",
      "  warnings.warn(\n"
     ]
    }
   ],
   "source": [
    "# Make sure you have the following files in the same directory as this ipynb:\n",
    "# 1. nsynth-test.tfrecord\n",
    "# 2. nsynth-train.tfrecord\n",
    "# 3. nsynth-valid.tfrecord\n",
    "\n",
    "nsynth_test = tf.data.TFRecordDataset(['nsynth-test.tfrecord'], num_parallel_reads=2)\n",
    "nsynth_train = tf.data.TFRecordDataset(['nsynth-train.tfrecord'], num_parallel_reads=2).shuffle(10000, seed=123)\n",
    "nsynth_valid = tf.data.TFRecordDataset(['nsynth-valid.tfrecord'], num_parallel_reads=2)"
   ]
  },
  {
   "cell_type": "code",
   "execution_count": 4,
   "metadata": {},
   "outputs": [],
   "source": [
    "# https://www.tensorflow.org/tutorials/load_data/tfrecord#read_the_tfrecord_file\n",
    "\n",
    "def get_features(record):\n",
    "    # We're only going to use a few features for now\n",
    "    features = {\n",
    "        # identifier string, this will be our label\n",
    "        #\"note_str\": tf.io.FixedLenFeature(shape=[], dtype=tf.string),\n",
    "        # MIDI tuning standard value for pitch\n",
    "        \"pitch\": tf.io.FixedLenFeature(shape=[], dtype=tf.int64),\n",
    "        # list of normalized audio 'samples' to represent the sound wave\n",
    "        \"audio\": tf.io.FixedLenFeature(shape=[64000], dtype=tf.float32)\n",
    "    }\n",
    "    sample = tf.io.parse_single_example(record, features)\n",
    "    \n",
    "    return sample"
   ]
  },
  {
   "cell_type": "code",
   "execution_count": 5,
   "metadata": {},
   "outputs": [],
   "source": [
    "# num classes in set of 1529 samples: 109 (without standardizing to 128 classes)\n",
    "test_ds = list(nsynth_test.take(4000).map(get_features))"
   ]
  },
  {
   "cell_type": "code",
   "execution_count": 6,
   "metadata": {},
   "outputs": [
    {
     "data": {
      "text/plain": [
       "<tf.Tensor: shape=(64000,), dtype=float32, numpy=\n",
       "array([ 3.8138387e-06, -3.8721851e-06,  3.9331076e-06, ...,\n",
       "       -3.6526076e-06,  3.7041993e-06, -3.7578957e-06], dtype=float32)>"
      ]
     },
     "execution_count": 6,
     "metadata": {},
     "output_type": "execute_result"
    }
   ],
   "source": [
    "# Note about how our audio feature is structured:\n",
    "#\n",
    "# 4 seconds * 16000 samples per second = 64000 samples\n",
    "# We only have one channel (these sound clips are mono)\n",
    "# Dynamic range of 16-bit PCM WAV (-2^15, 2^15 - 1) normalized to (-1, 1)\n",
    "\n",
    "\n",
    "# We get the first sample in our test dataset as an example\n",
    "clip1 = test_ds[0]['audio']\n",
    "clip1"
   ]
  },
  {
   "cell_type": "code",
   "execution_count": 7,
   "metadata": {},
   "outputs": [
    {
     "data": {
      "image/png": "[encoded data removed]",
      "text/plain": [
       "<Figure size 432x288 with 2 Axes>"
      ]
     },
     "metadata": {
      "needs_background": "light"
     },
     "output_type": "display_data"
    }
   ],
   "source": [
    "# A mel spectrogram. A spectrogram visualizes a signal's amplitude at different \n",
    "# frequencies over time. The mel scale is used because human perception of pitch\n",
    "# is not linear. We use the mel scale because we want to retrieve the \n",
    "# Mel-frequency Cepstral Coefficients (MFCCs).\n",
    "sample_rate = 16000\n",
    "S = librosa.feature.melspectrogram(np.array(clip1), sr=sample_rate, n_fft=2048, hop_length=512)\n",
    "\n",
    "# amplitude to decibels, relative to maximum value in audio clip\n",
    "S_DB = librosa.power_to_db(S, ref=np.max)\n",
    "\n",
    "# plot\n",
    "librosa.display.specshow(S_DB, sr=sample_rate, x_axis='time', y_axis='mel')\n",
    "plt.colorbar(format='%+2.0f dB');"
   ]
  },
  {
   "cell_type": "code",
   "execution_count": 8,
   "metadata": {},
   "outputs": [
    {
     "data": {
      "text/plain": [
       "(13, 126)"
      ]
     },
     "execution_count": 8,
     "metadata": {},
     "output_type": "execute_result"
    },
    {
     "data": {
      "image/png": "[encoded data removed]",
      "text/plain": [
       "<Figure size 432x288 with 2 Axes>"
      ]
     },
     "metadata": {
      "needs_background": "light"
     },
     "output_type": "display_data"
    }
   ],
   "source": [
    "# try getting mfccs with librosa, see below for tensorflow version\n",
    "\n",
    "MFCC = librosa.feature.mfcc(np.array(clip1), sr=sample_rate, n_mfcc=13)\n",
    "fig, ax = plt.subplots()\n",
    "img = librosa.display.specshow(MFCC, x_axis='time', ax=ax)\n",
    "fig.colorbar(img, ax=ax)\n",
    "ax.set(title='MFCC')\n",
    "MFCC.shape"
   ]
  },
  {
   "cell_type": "code",
   "execution_count": 9,
   "metadata": {},
   "outputs": [
    {
     "name": "stderr",
     "output_type": "stream",
     "text": [
      "/Users/cameronhudson/opt/anaconda3/lib/python3.8/site-packages/sklearn/preprocessing/_data.py:174: UserWarning: Numerical issues were encountered when centering the data and might not be solved. Dataset may contain too large values. You may need to prescale your features.\n",
      "  warnings.warn(\"Numerical issues were encountered \"\n",
      "/Users/cameronhudson/opt/anaconda3/lib/python3.8/site-packages/sklearn/preprocessing/_data.py:191: UserWarning: Numerical issues were encountered when scaling the data and might not be solved. The standard deviation of the data is probably very close to 0. \n",
      "  warnings.warn(\"Numerical issues were encountered \"\n"
     ]
    },
    {
     "data": {
      "text/plain": [
       "(13, 126)"
      ]
     },
     "execution_count": 9,
     "metadata": {},
     "output_type": "execute_result"
    },
    {
     "data": {
      "image/png": "[encoded data removed]",
      "text/plain": [
       "<Figure size 432x288 with 1 Axes>"
      ]
     },
     "metadata": {
      "needs_background": "light"
     },
     "output_type": "display_data"
    }
   ],
   "source": [
    "# scaled mfccs\n",
    "from sklearn import preprocessing as pre\n",
    "\n",
    "MFCC = pre.scale(MFCC, axis=1)\n",
    "librosa.display.specshow(MFCC, sr=sample_rate, x_axis='time')\n",
    "MFCC.shape"
   ]
  },
  {
   "cell_type": "code",
   "execution_count": 12,
   "metadata": {},
   "outputs": [
    {
     "name": "stdout",
     "output_type": "stream",
     "text": [
      "Frequency:  2637.02045530296\n",
      "Note:  E7\n"
     ]
    }
   ],
   "source": [
    "def midi_pitch_to_frequency(d):\n",
    "    return (2**((d-69)/12.0))*440.0\n",
    "\n",
    "from math import log2, pow\n",
    "\n",
    "A4 = 440\n",
    "C0 = A4*pow(2, -4.75)\n",
    "name = [\"C\", \"C#\", \"D\", \"D#\", \"E\", \"F\", \"F#\", \"G\", \"G#\", \"A\", \"A#\", \"B\"]\n",
    "    \n",
    "def frequency_to_note(freq):\n",
    "    h = round(12*log2(freq/C0))\n",
    "    octave = h // 12\n",
    "    n = h % 12\n",
    "    return name[n] + str(octave)\n",
    "\n",
    "def midi_pitch_to_note(d):\n",
    "    return frequency_to_note(midi_pitch_to_frequency(d))\n",
    "\n",
    "f = midi_pitch_to_frequency(100)\n",
    "print(\"Frequency: \", f)\n",
    "print(\"Note: \", frequency_to_note(f))\n"
   ]
  },
  {
   "cell_type": "code",
   "execution_count": 13,
   "metadata": {},
   "outputs": [
    {
     "data": {
      "text/plain": [
       "<tf.Tensor: shape=(), dtype=int64, numpy=100>"
      ]
     },
     "execution_count": 13,
     "metadata": {},
     "output_type": "execute_result"
    }
   ],
   "source": [
    "test_note = test_ds[0]['pitch']\n",
    "test_note\n",
    "# We can observe a few things from the previous 3 results:\n",
    "\n",
    "# 1. Our first audio clip has midi pitch value 100, which encodes the note E7. \n",
    "# 2. The note E7 has the fundamental frequency 2637 Hz.\n",
    "# 3. The spectogram above has frequency ~2700 Hz most represented."
   ]
  },
  {
   "cell_type": "code",
   "execution_count": 14,
   "metadata": {},
   "outputs": [],
   "source": [
    "# https://www.tensorflow.org/api_docs/python/tf/signal/mfccs_from_log_mel_spectrograms\n",
    "# https://en.wikipedia.org/wiki/Mel-frequency_cepstrum\n",
    "\n",
    "def to_mfccs(audio_array):\n",
    "    return librosa.feature.mfcc(audio_array, sr=sample_rate, n_mfcc=40).flatten()\n",
    "\n",
    "def to_mfccs_noflatten(audio_array):\n",
    "    return librosa.feature.mfcc(audio_array, sr=sample_rate, n_mfcc=40)\n",
    "\n",
    "# result: we go from 64,000 samples to 247x20 coefficients. \n",
    "# huge reduction in feature space!"
   ]
  },
  {
   "cell_type": "code",
   "execution_count": 15,
   "metadata": {},
   "outputs": [
    {
     "name": "stderr",
     "output_type": "stream",
     "text": [
      "/Users/cameronhudson/opt/anaconda3/lib/python3.8/site-packages/tensorflow/python/data/ops/dataset_ops.py:3349: UserWarning: Even though the tf.config.experimental_run_functions_eagerly option is set, this option does not apply to tf.data functions. tf.data functions are still traced and executed as graphs.\n",
      "  warnings.warn(\n"
     ]
    }
   ],
   "source": [
    "# Trim 289,205 training samples down to at least 20,000\n",
    "# Too many samples takes too long to load and uses a lot of RAM\n",
    "\n",
    "# num classes in set of 20000 samples: 110 (without standardizing to 128 classes)\n",
    "train_ds = list(nsynth_train.take(20000).map(get_features))\n",
    "\n",
    "# num classes in set of 9000 sample: 109 (without standardizing to 128 classes)\n",
    "#train_ds = list(nsynth_train.take(9000).map(get_features))"
   ]
  },
  {
   "cell_type": "code",
   "execution_count": 16,
   "metadata": {},
   "outputs": [],
   "source": [
    "sample_rate = 16000\n",
    "# We trimmed 4096 test samples down to 1000 \n",
    "# X terms for train and test are used for SVM, the Y terms will be used for all models\n",
    "\n",
    "y_test = [test_ds[i]['pitch'].numpy() for i in range(len(test_ds))]\n",
    "x_test = [to_mfccs(test_ds[i]['audio'].numpy()) for i in range(len(test_ds))]\n",
    "\n",
    "y_train = [train_ds[i]['pitch'].numpy() for i in range(len(train_ds))]\n",
    "x_train = [to_mfccs(train_ds[i]['audio'].numpy()) for i in range(len(train_ds))]"
   ]
  },
  {
   "cell_type": "code",
   "execution_count": 58,
   "metadata": {},
   "outputs": [],
   "source": [
    "#svm_clf = SVC()\n",
    "#svm_clf.fit(x_train, y_train)\n",
    "#svm_y_predict = svm_clf.predict(x_test)"
   ]
  },
  {
   "cell_type": "code",
   "execution_count": 59,
   "metadata": {
    "scrolled": true
   },
   "outputs": [
    {
     "name": "stdout",
     "output_type": "stream",
     "text": [
      "              precision    recall  f1-score   support\n",
      "\n",
      "           9       0.00      0.00      0.00         2\n",
      "          10       0.00      0.00      0.00         4\n",
      "          11       0.00      0.00      0.00         3\n",
      "          12       0.00      0.00      0.00         2\n",
      "          13       0.00      0.00      0.00         3\n",
      "          14       0.00      0.00      0.00         2\n",
      "          15       0.00      0.00      0.00         1\n",
      "          16       0.00      0.00      0.00         2\n",
      "          17       0.00      0.00      0.00         1\n",
      "          18       0.00      0.00      0.00         4\n",
      "          19       0.00      0.00      0.00         3\n",
      "          20       0.00      0.00      0.00         3\n",
      "          21       0.03      0.32      0.06        25\n",
      "          22       0.08      0.03      0.04        34\n",
      "          23       0.00      0.00      0.00        35\n",
      "          24       0.00      0.00      0.00        39\n",
      "          25       0.05      0.18      0.08        39\n",
      "          26       0.00      0.00      0.00        40\n",
      "          27       0.00      0.00      0.00        39\n",
      "          28       0.00      0.00      0.00        43\n",
      "          29       0.00      0.00      0.00        47\n",
      "          30       0.00      0.00      0.00        45\n",
      "          31       0.03      0.04      0.04        48\n",
      "          32       0.05      0.13      0.07        52\n",
      "          33       0.00      0.00      0.00        49\n",
      "          34       0.06      0.07      0.06        44\n",
      "          35       0.02      0.06      0.03        51\n",
      "          36       0.09      0.12      0.10        58\n",
      "          37       0.05      0.02      0.02        59\n",
      "          38       0.00      0.00      0.00        34\n",
      "          39       0.10      0.27      0.15        62\n",
      "          40       0.00      0.00      0.00        69\n",
      "          41       0.00      0.00      0.00        49\n",
      "          42       0.06      0.31      0.10        48\n",
      "          43       0.00      0.00      0.00        48\n",
      "          44       0.00      0.00      0.00        54\n",
      "          45       0.50      0.02      0.03        63\n",
      "          46       0.04      0.05      0.05        41\n",
      "          47       0.10      0.52      0.16        48\n",
      "          48       0.12      0.08      0.10        62\n",
      "          49       0.00      0.00      0.00        54\n",
      "          50       1.00      0.16      0.28        55\n",
      "          51       0.93      0.93      0.93        55\n",
      "          52       0.93      0.84      0.88        62\n",
      "          53       0.98      0.86      0.92        51\n",
      "          54       0.96      0.79      0.87        58\n",
      "          55       0.85      0.85      0.85        52\n",
      "          56       0.87      0.89      0.88        46\n",
      "          57       0.96      0.88      0.92        59\n",
      "          58       0.87      0.75      0.80        60\n",
      "          59       0.81      0.92      0.86        51\n",
      "          60       0.88      0.89      0.89        57\n",
      "          61       0.84      0.76      0.80        62\n",
      "          62       0.74      0.85      0.79        65\n",
      "          63       0.94      0.79      0.85        56\n",
      "          64       0.88      0.88      0.88        60\n",
      "          65       0.95      0.89      0.92        61\n",
      "          66       0.95      0.80      0.86        44\n",
      "          67       0.88      0.94      0.91        49\n",
      "          68       0.96      0.88      0.92        51\n",
      "          69       0.87      0.90      0.88        50\n",
      "          70       0.95      0.87      0.91        46\n",
      "          71       0.90      0.86      0.88        50\n",
      "          72       0.98      0.81      0.88        62\n",
      "          73       0.94      0.78      0.85        59\n",
      "          74       0.90      0.88      0.89        50\n",
      "          75       0.92      0.85      0.88        39\n",
      "          76       0.89      0.83      0.86        41\n",
      "          77       0.98      0.91      0.94        55\n",
      "          78       0.81      0.91      0.86        33\n",
      "          79       0.90      0.86      0.88        42\n",
      "          80       0.92      0.94      0.93        47\n",
      "          81       0.97      0.74      0.84        38\n",
      "          82       0.97      0.87      0.92        45\n",
      "          83       0.92      0.82      0.87        44\n",
      "          84       0.86      0.84      0.85        50\n",
      "          85       0.97      0.85      0.91        40\n",
      "          86       0.89      0.76      0.82        45\n",
      "          87       0.91      0.73      0.81        44\n",
      "          88       0.90      0.77      0.83        35\n",
      "          89       0.96      0.77      0.85        30\n",
      "          90       1.00      0.53      0.70        43\n",
      "          91       1.00      0.54      0.70        37\n",
      "          92       0.93      0.76      0.84        37\n",
      "          93       0.95      0.53      0.68        36\n",
      "          94       0.74      0.56      0.64        25\n",
      "          95       0.94      0.47      0.63        36\n",
      "          96       0.92      0.57      0.71        42\n",
      "          97       1.00      0.45      0.62        22\n",
      "          98       0.92      0.41      0.56        27\n",
      "          99       1.00      0.53      0.70        30\n",
      "         100       0.82      0.36      0.50        25\n",
      "         101       0.94      0.48      0.64        31\n",
      "         102       0.80      0.53      0.64        30\n",
      "         103       0.92      0.48      0.63        23\n",
      "         104       0.62      0.57      0.59        37\n",
      "         105       1.00      0.50      0.67        28\n",
      "         106       0.12      0.67      0.20        24\n",
      "         107       0.90      0.33      0.49        27\n",
      "         108       0.67      0.38      0.49        26\n",
      "         110       0.00      0.00      0.00         1\n",
      "         113       0.00      0.00      0.00         1\n",
      "         115       0.00      0.00      0.00         1\n",
      "         116       0.00      0.00      0.00         1\n",
      "         118       0.00      0.00      0.00         1\n",
      "         119       0.00      0.00      0.00         1\n",
      "\n",
      "    accuracy                           0.51      4000\n",
      "   macro avg       0.51      0.42      0.44      4000\n",
      "weighted avg       0.60      0.51      0.53      4000\n",
      "\n"
     ]
    },
    {
     "name": "stderr",
     "output_type": "stream",
     "text": [
      "/Users/cameronhudson/opt/anaconda3/lib/python3.8/site-packages/sklearn/metrics/_classification.py:1221: UndefinedMetricWarning: Precision and F-score are ill-defined and being set to 0.0 in labels with no predicted samples. Use `zero_division` parameter to control this behavior.\n",
      "  _warn_prf(average, modifier, msg_start, len(result))\n"
     ]
    }
   ],
   "source": [
    "#print(classification_report(y_test, svm_y_predict))"
   ]
  },
  {
   "cell_type": "code",
   "execution_count": 16,
   "metadata": {},
   "outputs": [],
   "source": [
    "# x_train_nf = [to_mfccs_noflatten(train_ds[i]['audio'].numpy()) for i in range(len(train_ds))]\n",
    "# x_test_nf = [to_mfccs_noflatten(test_ds[i]['audio'].numpy()) for i in range(len(test_ds))]\n",
    "\n",
    "# x_train_nf = np.asarray(x_train_nf)\n",
    "# x_test_nf = np.asarray(x_test_nf)\n",
    "\n",
    "# # only used for first CNN\n",
    "# y_train_ar = np.asarray(y_train)"
   ]
  },
  {
   "cell_type": "code",
   "execution_count": 18,
   "metadata": {},
   "outputs": [],
   "source": [
    "valid_ds = list(nsynth_valid.take(4000).map(get_features))\n",
    "y_val = [valid_ds[i]['pitch'].numpy() for i in range(len(valid_ds))]"
   ]
  },
  {
   "cell_type": "code",
   "execution_count": 14,
   "metadata": {},
   "outputs": [],
   "source": [
    "# x_val_nf = [to_mfccs_noflatten(valid_ds[i]['audio'].numpy()) for i in range(len(valid_ds))]\n",
    "# x_val_nf = np.asarray(x_val_nf)\n",
    "\n",
    "# # only used for first CNN\n",
    "# y_val_ar = np.asarray(y_val)"
   ]
  },
  {
   "cell_type": "code",
   "execution_count": 41,
   "metadata": {},
   "outputs": [
    {
     "data": {
      "text/plain": [
       "(40, 126, 1)"
      ]
     },
     "execution_count": 41,
     "metadata": {},
     "output_type": "execute_result"
    }
   ],
   "source": [
    "# from numpy import newaxis\n",
    "# x_val3d = x_val_nf[:, :, :, newaxis]\n",
    "# x_val3d[0].shape"
   ]
  },
  {
   "cell_type": "code",
   "execution_count": 42,
   "metadata": {},
   "outputs": [
    {
     "data": {
      "text/plain": [
       "(40, 126, 1)"
      ]
     },
     "execution_count": 42,
     "metadata": {},
     "output_type": "execute_result"
    }
   ],
   "source": [
    "# x_train3d = x_train_nf[:, :, :, newaxis]\n",
    "# x_train3d[0].shape"
   ]
  },
  {
   "cell_type": "code",
   "execution_count": 19,
   "metadata": {},
   "outputs": [
    {
     "data": {
      "text/plain": [
       "128"
      ]
     },
     "execution_count": 19,
     "metadata": {},
     "output_type": "execute_result"
    }
   ],
   "source": [
    "from keras.utils import to_categorical\n",
    "\n",
    "y_train_1hot = to_categorical(y_train, num_classes=128)\n",
    "y_test_1hot  = to_categorical(y_test, num_classes=128)\n",
    "y_val_1hot = to_categorical(y_val, num_classes=128)\n",
    "len(y_train_1hot[0])"
   ]
  },
  {
   "cell_type": "code",
   "execution_count": 20,
   "metadata": {},
   "outputs": [],
   "source": [
    "def to_log_melspectogram(audio_array):\n",
    "    sample_rate = 16000\n",
    "    S = librosa.feature.melspectrogram(audio_array, sr=sample_rate, n_fft=2048, hop_length=512)\n",
    "    # decibels are the log scale of amplitudes\n",
    "    S_DB = librosa.power_to_db(S, ref=np.max)\n",
    "    return S_DB"
   ]
  },
  {
   "cell_type": "code",
   "execution_count": 21,
   "metadata": {},
   "outputs": [],
   "source": [
    "x_train_logmel = [to_log_melspectogram(train_ds[i]['audio'].numpy()) for i in range(len(train_ds))]\n",
    "x_test_logmel = [to_log_melspectogram(test_ds[i]['audio'].numpy()) for i in range(len(test_ds))]\n",
    "x_val_logmel = [to_log_melspectogram(valid_ds[i]['audio'].numpy()) for i in range(len(valid_ds))]\n",
    "\n",
    "x_train_logmel = np.asarray(x_train_logmel)\n",
    "x_test_logmel = np.asarray(x_test_logmel)\n",
    "x_val_logmel = np.asarray(x_val_logmel)"
   ]
  },
  {
   "cell_type": "code",
   "execution_count": 23,
   "metadata": {},
   "outputs": [],
   "source": [
    "from numpy import newaxis\n",
    "x_train_logmel = x_train_logmel[:, :, :, newaxis]\n",
    "x_test_logmel = x_test_logmel[:, :, :, newaxis]\n",
    "x_val_logmel = x_val_logmel[:, :, :, newaxis]"
   ]
  },
  {
   "cell_type": "code",
   "execution_count": 24,
   "metadata": {},
   "outputs": [
    {
     "name": "stdout",
     "output_type": "stream",
     "text": [
      "Model: \"sequential\"\n",
      "_________________________________________________________________\n",
      "Layer (type)                 Output Shape              Param #   \n",
      "=================================================================\n",
      "normalization (Normalization (None, 128, 126, 1)       3         \n",
      "_________________________________________________________________\n",
      "conv2d (Conv2D)              (None, 62, 61, 32)        832       \n",
      "_________________________________________________________________\n",
      "conv2d_1 (Conv2D)            (None, 62, 61, 64)        51264     \n",
      "_________________________________________________________________\n",
      "max_pooling2d (MaxPooling2D) (None, 31, 30, 64)        0         \n",
      "_________________________________________________________________\n",
      "dropout (Dropout)            (None, 31, 30, 64)        0         \n",
      "_________________________________________________________________\n",
      "flatten (Flatten)            (None, 59520)             0         \n",
      "_________________________________________________________________\n",
      "dense (Dense)                (None, 128)               7618688   \n",
      "_________________________________________________________________\n",
      "dropout_1 (Dropout)          (None, 128)               0         \n",
      "_________________________________________________________________\n",
      "dense_1 (Dense)              (None, 128)               16512     \n",
      "=================================================================\n",
      "Total params: 7,687,299\n",
      "Trainable params: 7,687,296\n",
      "Non-trainable params: 3\n",
      "_________________________________________________________________\n"
     ]
    }
   ],
   "source": [
    "from keras.layers import LeakyReLU\n",
    "from keras.layers import advanced_activations\n",
    "\n",
    "input_shape = x_train_logmel[0].shape\n",
    "\n",
    "num_labels = 128\n",
    "\n",
    "norm_layer = preprocessing.Normalization()\n",
    "norm_layer.adapt(x_train_logmel)\n",
    "\n",
    "model = models.Sequential([\n",
    "    layers.Input(shape=input_shape),\n",
    "    norm_layer,  \n",
    "    layers.Conv2D(filters = 32, kernel_size = (5,5), strides = (2,2), activation='relu', padding = 'valid'),\n",
    "    layers.Conv2D(filters = 64, kernel_size = (5,5), activation='relu', padding = 'same'),\n",
    "    layers.MaxPooling2D(pool_size = (2,2)),\n",
    "    layers.Dropout(0.25),\n",
    "    layers.Flatten(),\n",
    "    layers.Dense(128, activation='relu'),\n",
    "    layers.Dropout(0.5),\n",
    "    layers.Dense(num_labels, activation = 'softmax'),\n",
    "])\n",
    "    \n",
    "model.summary()"
   ]
  },
  {
   "cell_type": "code",
   "execution_count": 25,
   "metadata": {},
   "outputs": [],
   "source": [
    "model.compile(\n",
    "    optimizer=tf.keras.optimizers.Adam(),\n",
    "    loss='categorical_crossentropy',\n",
    "    #loss=tf.keras.losses.SparseCategoricalCrossentropy(from_logits=True),\n",
    "    metrics=['accuracy'],\n",
    ")"
   ]
  },
  {
   "cell_type": "code",
   "execution_count": null,
   "metadata": {
    "scrolled": false
   },
   "outputs": [
    {
     "name": "stdout",
     "output_type": "stream",
     "text": [
      "Epoch 1/10\n",
      " 13/157 [=>............................] - ETA: 7:46 - loss: 4.9830 - accuracy: 0.0228"
     ]
    }
   ],
   "source": [
    "EPOCHS = 10\n",
    "history = model.fit(\n",
    "    x_train_logmel, \n",
    "    y_train_1hot, \n",
    "    validation_data= (x_val_logmel, y_val_1hot),  \n",
    "    batch_size = 128,\n",
    "    epochs=EPOCHS,\n",
    "    callbacks=tf.keras.callbacks.EarlyStopping(verbose=1, patience=2),\n",
    ")"
   ]
  },
  {
   "cell_type": "code",
   "execution_count": 141,
   "metadata": {
    "scrolled": false
   },
   "outputs": [
    {
     "data": {
      "image/png": "[encoded data removed]",
      "text/plain": [
       "<Figure size 432x288 with 1 Axes>"
      ]
     },
     "metadata": {
      "needs_background": "light"
     },
     "output_type": "display_data"
    }
   ],
   "source": [
    "metrics = history.history\n",
    "plt.plot(history.epoch, metrics['loss'], metrics['val_loss'])\n",
    "plt.legend(['loss', 'val_loss'])\n",
    "plt.show()"
   ]
  },
  {
   "cell_type": "code",
   "execution_count": 145,
   "metadata": {},
   "outputs": [
    {
     "name": "stdout",
     "output_type": "stream",
     "text": [
      "Test set accuracy: 86%\n",
      "125/125 - 29s - loss: 0.7996 - accuracy: 0.8572\n",
      "\n",
      "Test accuracy for CNN: 85.72%\n"
     ]
    }
   ],
   "source": [
    "y_pred = np.argmax(model.predict(x_test_logmel), axis=1)\n",
    "y_true = y_test\n",
    "\n",
    "test_acc = sum(y_pred == y_true) / len(y_true)\n",
    "\n",
    "print(f'Test set accuracy: {test_acc:.0%}')\n",
    "\n",
    "test_loss, test_acc = model.evaluate(x_test_logmel,  y_test_1hot, verbose=2)\n",
    "print('\\nTest accuracy for CNN:', '{:.2%}'.format(test_acc))"
   ]
  },
  {
   "cell_type": "code",
   "execution_count": 100,
   "metadata": {
    "scrolled": true
   },
   "outputs": [
    {
     "data": {
      "text/html": [
       "<div>\n",
       "<style scoped>\n",
       "    .dataframe tbody tr th:only-of-type {\n",
       "        vertical-align: middle;\n",
       "    }\n",
       "\n",
       "    .dataframe tbody tr th {\n",
       "        vertical-align: top;\n",
       "    }\n",
       "\n",
       "    .dataframe thead th {\n",
       "        text-align: right;\n",
       "    }\n",
       "</style>\n",
       "<table border=\"1\" class=\"dataframe\">\n",
       "  <thead>\n",
       "    <tr style=\"text-align: right;\">\n",
       "      <th></th>\n",
       "      <th>Target: A#-1</th>\n",
       "      <th>Target: B-1</th>\n",
       "      <th>Target: C0</th>\n",
       "      <th>Target: C#0</th>\n",
       "      <th>Target: D0</th>\n",
       "      <th>Target: D#0</th>\n",
       "      <th>Target: E0</th>\n",
       "      <th>Target: F0</th>\n",
       "      <th>Target: F#0</th>\n",
       "      <th>Target: G0</th>\n",
       "      <th>...</th>\n",
       "      <th>Target: A#7</th>\n",
       "      <th>Target: B7</th>\n",
       "      <th>Target: C8</th>\n",
       "      <th>Target: C#8</th>\n",
       "      <th>Target: D8</th>\n",
       "      <th>Target: D#8</th>\n",
       "      <th>Target: E8</th>\n",
       "      <th>Target: F8</th>\n",
       "      <th>Target: F#8</th>\n",
       "      <th>Target: G8</th>\n",
       "    </tr>\n",
       "  </thead>\n",
       "  <tbody>\n",
       "    <tr>\n",
       "      <th>Predict: A#-1</th>\n",
       "      <td>0</td>\n",
       "      <td>0</td>\n",
       "      <td>0</td>\n",
       "      <td>0</td>\n",
       "      <td>0</td>\n",
       "      <td>0</td>\n",
       "      <td>0</td>\n",
       "      <td>0</td>\n",
       "      <td>0</td>\n",
       "      <td>0</td>\n",
       "      <td>...</td>\n",
       "      <td>0</td>\n",
       "      <td>0</td>\n",
       "      <td>0</td>\n",
       "      <td>0</td>\n",
       "      <td>0</td>\n",
       "      <td>0</td>\n",
       "      <td>0</td>\n",
       "      <td>0</td>\n",
       "      <td>0</td>\n",
       "      <td>0</td>\n",
       "    </tr>\n",
       "    <tr>\n",
       "      <th>Predict: B-1</th>\n",
       "      <td>0</td>\n",
       "      <td>0</td>\n",
       "      <td>0</td>\n",
       "      <td>0</td>\n",
       "      <td>0</td>\n",
       "      <td>0</td>\n",
       "      <td>0</td>\n",
       "      <td>0</td>\n",
       "      <td>0</td>\n",
       "      <td>0</td>\n",
       "      <td>...</td>\n",
       "      <td>0</td>\n",
       "      <td>0</td>\n",
       "      <td>0</td>\n",
       "      <td>0</td>\n",
       "      <td>0</td>\n",
       "      <td>0</td>\n",
       "      <td>0</td>\n",
       "      <td>0</td>\n",
       "      <td>0</td>\n",
       "      <td>0</td>\n",
       "    </tr>\n",
       "    <tr>\n",
       "      <th>Predict: C0</th>\n",
       "      <td>0</td>\n",
       "      <td>0</td>\n",
       "      <td>0</td>\n",
       "      <td>0</td>\n",
       "      <td>0</td>\n",
       "      <td>0</td>\n",
       "      <td>0</td>\n",
       "      <td>0</td>\n",
       "      <td>0</td>\n",
       "      <td>0</td>\n",
       "      <td>...</td>\n",
       "      <td>0</td>\n",
       "      <td>0</td>\n",
       "      <td>0</td>\n",
       "      <td>0</td>\n",
       "      <td>0</td>\n",
       "      <td>0</td>\n",
       "      <td>0</td>\n",
       "      <td>0</td>\n",
       "      <td>0</td>\n",
       "      <td>0</td>\n",
       "    </tr>\n",
       "    <tr>\n",
       "      <th>Predict: C#0</th>\n",
       "      <td>0</td>\n",
       "      <td>0</td>\n",
       "      <td>0</td>\n",
       "      <td>0</td>\n",
       "      <td>0</td>\n",
       "      <td>0</td>\n",
       "      <td>0</td>\n",
       "      <td>0</td>\n",
       "      <td>0</td>\n",
       "      <td>0</td>\n",
       "      <td>...</td>\n",
       "      <td>0</td>\n",
       "      <td>0</td>\n",
       "      <td>0</td>\n",
       "      <td>0</td>\n",
       "      <td>0</td>\n",
       "      <td>0</td>\n",
       "      <td>0</td>\n",
       "      <td>0</td>\n",
       "      <td>0</td>\n",
       "      <td>0</td>\n",
       "    </tr>\n",
       "    <tr>\n",
       "      <th>Predict: D0</th>\n",
       "      <td>0</td>\n",
       "      <td>0</td>\n",
       "      <td>0</td>\n",
       "      <td>0</td>\n",
       "      <td>0</td>\n",
       "      <td>0</td>\n",
       "      <td>0</td>\n",
       "      <td>0</td>\n",
       "      <td>0</td>\n",
       "      <td>0</td>\n",
       "      <td>...</td>\n",
       "      <td>0</td>\n",
       "      <td>0</td>\n",
       "      <td>0</td>\n",
       "      <td>0</td>\n",
       "      <td>0</td>\n",
       "      <td>0</td>\n",
       "      <td>0</td>\n",
       "      <td>0</td>\n",
       "      <td>0</td>\n",
       "      <td>0</td>\n",
       "    </tr>\n",
       "    <tr>\n",
       "      <th>...</th>\n",
       "      <td>...</td>\n",
       "      <td>...</td>\n",
       "      <td>...</td>\n",
       "      <td>...</td>\n",
       "      <td>...</td>\n",
       "      <td>...</td>\n",
       "      <td>...</td>\n",
       "      <td>...</td>\n",
       "      <td>...</td>\n",
       "      <td>...</td>\n",
       "      <td>...</td>\n",
       "      <td>...</td>\n",
       "      <td>...</td>\n",
       "      <td>...</td>\n",
       "      <td>...</td>\n",
       "      <td>...</td>\n",
       "      <td>...</td>\n",
       "      <td>...</td>\n",
       "      <td>...</td>\n",
       "      <td>...</td>\n",
       "      <td>...</td>\n",
       "    </tr>\n",
       "    <tr>\n",
       "      <th>Predict: D#8</th>\n",
       "      <td>0</td>\n",
       "      <td>0</td>\n",
       "      <td>0</td>\n",
       "      <td>0</td>\n",
       "      <td>0</td>\n",
       "      <td>0</td>\n",
       "      <td>0</td>\n",
       "      <td>0</td>\n",
       "      <td>0</td>\n",
       "      <td>0</td>\n",
       "      <td>...</td>\n",
       "      <td>0</td>\n",
       "      <td>0</td>\n",
       "      <td>0</td>\n",
       "      <td>0</td>\n",
       "      <td>0</td>\n",
       "      <td>0</td>\n",
       "      <td>0</td>\n",
       "      <td>0</td>\n",
       "      <td>0</td>\n",
       "      <td>0</td>\n",
       "    </tr>\n",
       "    <tr>\n",
       "      <th>Predict: E8</th>\n",
       "      <td>0</td>\n",
       "      <td>0</td>\n",
       "      <td>0</td>\n",
       "      <td>0</td>\n",
       "      <td>0</td>\n",
       "      <td>0</td>\n",
       "      <td>0</td>\n",
       "      <td>0</td>\n",
       "      <td>0</td>\n",
       "      <td>0</td>\n",
       "      <td>...</td>\n",
       "      <td>0</td>\n",
       "      <td>0</td>\n",
       "      <td>0</td>\n",
       "      <td>0</td>\n",
       "      <td>0</td>\n",
       "      <td>0</td>\n",
       "      <td>0</td>\n",
       "      <td>0</td>\n",
       "      <td>0</td>\n",
       "      <td>0</td>\n",
       "    </tr>\n",
       "    <tr>\n",
       "      <th>Predict: F8</th>\n",
       "      <td>0</td>\n",
       "      <td>0</td>\n",
       "      <td>0</td>\n",
       "      <td>0</td>\n",
       "      <td>0</td>\n",
       "      <td>0</td>\n",
       "      <td>0</td>\n",
       "      <td>0</td>\n",
       "      <td>0</td>\n",
       "      <td>0</td>\n",
       "      <td>...</td>\n",
       "      <td>0</td>\n",
       "      <td>0</td>\n",
       "      <td>0</td>\n",
       "      <td>0</td>\n",
       "      <td>0</td>\n",
       "      <td>0</td>\n",
       "      <td>0</td>\n",
       "      <td>0</td>\n",
       "      <td>0</td>\n",
       "      <td>0</td>\n",
       "    </tr>\n",
       "    <tr>\n",
       "      <th>Predict: F#8</th>\n",
       "      <td>0</td>\n",
       "      <td>0</td>\n",
       "      <td>0</td>\n",
       "      <td>0</td>\n",
       "      <td>0</td>\n",
       "      <td>0</td>\n",
       "      <td>0</td>\n",
       "      <td>0</td>\n",
       "      <td>0</td>\n",
       "      <td>0</td>\n",
       "      <td>...</td>\n",
       "      <td>0</td>\n",
       "      <td>0</td>\n",
       "      <td>0</td>\n",
       "      <td>0</td>\n",
       "      <td>0</td>\n",
       "      <td>0</td>\n",
       "      <td>0</td>\n",
       "      <td>0</td>\n",
       "      <td>0</td>\n",
       "      <td>0</td>\n",
       "    </tr>\n",
       "    <tr>\n",
       "      <th>Predict: G8</th>\n",
       "      <td>0</td>\n",
       "      <td>0</td>\n",
       "      <td>0</td>\n",
       "      <td>0</td>\n",
       "      <td>0</td>\n",
       "      <td>0</td>\n",
       "      <td>0</td>\n",
       "      <td>0</td>\n",
       "      <td>0</td>\n",
       "      <td>0</td>\n",
       "      <td>...</td>\n",
       "      <td>0</td>\n",
       "      <td>0</td>\n",
       "      <td>0</td>\n",
       "      <td>0</td>\n",
       "      <td>0</td>\n",
       "      <td>0</td>\n",
       "      <td>0</td>\n",
       "      <td>0</td>\n",
       "      <td>0</td>\n",
       "      <td>0</td>\n",
       "    </tr>\n",
       "  </tbody>\n",
       "</table>\n",
       "<p>106 rows × 106 columns</p>\n",
       "</div>"
      ],
      "text/plain": [
       "               Target: A#-1  Target: B-1  Target: C0  Target: C#0  Target: D0  \\\n",
       "Predict: A#-1             0            0           0            0           0   \n",
       "Predict: B-1              0            0           0            0           0   \n",
       "Predict: C0               0            0           0            0           0   \n",
       "Predict: C#0              0            0           0            0           0   \n",
       "Predict: D0               0            0           0            0           0   \n",
       "...                     ...          ...         ...          ...         ...   \n",
       "Predict: D#8              0            0           0            0           0   \n",
       "Predict: E8               0            0           0            0           0   \n",
       "Predict: F8               0            0           0            0           0   \n",
       "Predict: F#8              0            0           0            0           0   \n",
       "Predict: G8               0            0           0            0           0   \n",
       "\n",
       "               Target: D#0  Target: E0  Target: F0  Target: F#0  Target: G0  \\\n",
       "Predict: A#-1            0           0           0            0           0   \n",
       "Predict: B-1             0           0           0            0           0   \n",
       "Predict: C0              0           0           0            0           0   \n",
       "Predict: C#0             0           0           0            0           0   \n",
       "Predict: D0              0           0           0            0           0   \n",
       "...                    ...         ...         ...          ...         ...   \n",
       "Predict: D#8             0           0           0            0           0   \n",
       "Predict: E8              0           0           0            0           0   \n",
       "Predict: F8              0           0           0            0           0   \n",
       "Predict: F#8             0           0           0            0           0   \n",
       "Predict: G8              0           0           0            0           0   \n",
       "\n",
       "               ...  Target: A#7  Target: B7  Target: C8  Target: C#8  \\\n",
       "Predict: A#-1  ...            0           0           0            0   \n",
       "Predict: B-1   ...            0           0           0            0   \n",
       "Predict: C0    ...            0           0           0            0   \n",
       "Predict: C#0   ...            0           0           0            0   \n",
       "Predict: D0    ...            0           0           0            0   \n",
       "...            ...          ...         ...         ...          ...   \n",
       "Predict: D#8   ...            0           0           0            0   \n",
       "Predict: E8    ...            0           0           0            0   \n",
       "Predict: F8    ...            0           0           0            0   \n",
       "Predict: F#8   ...            0           0           0            0   \n",
       "Predict: G8    ...            0           0           0            0   \n",
       "\n",
       "               Target: D8  Target: D#8  Target: E8  Target: F8  Target: F#8  \\\n",
       "Predict: A#-1           0            0           0           0            0   \n",
       "Predict: B-1            0            0           0           0            0   \n",
       "Predict: C0             0            0           0           0            0   \n",
       "Predict: C#0            0            0           0           0            0   \n",
       "Predict: D0             0            0           0           0            0   \n",
       "...                   ...          ...         ...         ...          ...   \n",
       "Predict: D#8            0            0           0           0            0   \n",
       "Predict: E8             0            0           0           0            0   \n",
       "Predict: F8             0            0           0           0            0   \n",
       "Predict: F#8            0            0           0           0            0   \n",
       "Predict: G8             0            0           0           0            0   \n",
       "\n",
       "               Target: G8  \n",
       "Predict: A#-1           0  \n",
       "Predict: B-1            0  \n",
       "Predict: C0             0  \n",
       "Predict: C#0            0  \n",
       "Predict: D0             0  \n",
       "...                   ...  \n",
       "Predict: D#8            0  \n",
       "Predict: E8             0  \n",
       "Predict: F8             0  \n",
       "Predict: F#8            0  \n",
       "Predict: G8             0  \n",
       "\n",
       "[106 rows x 106 columns]"
      ]
     },
     "execution_count": 100,
     "metadata": {},
     "output_type": "execute_result"
    }
   ],
   "source": [
    "cnn_cm = confusion_matrix(y_test, y_pred)\n",
    "mycolumns = [\"Target: \" + midi_pitch_to_note(i) for i in range(10,116)]\n",
    "myindices = [\"Predict: \" + midi_pitch_to_note(i) for i in range(10,116)]\n",
    "cnn_cm_df = pd.DataFrame(cnn_cm, index=myindices, columns=mycolumns)\n",
    "cnn_cm_df"
   ]
  },
  {
   "cell_type": "code",
   "execution_count": 118,
   "metadata": {
    "scrolled": true
   },
   "outputs": [
    {
     "name": "stdout",
     "output_type": "stream",
     "text": [
      "              precision    recall  f1-score   support\n",
      "\n",
      "           9       0.00      0.00      0.00         2\n",
      "          10       0.00      0.00      0.00         4\n",
      "          11       0.00      0.00      0.00         3\n",
      "          12       0.00      0.00      0.00         2\n",
      "          13       0.00      0.00      0.00         3\n",
      "          14       0.00      0.00      0.00         2\n",
      "          15       0.00      0.00      0.00         1\n",
      "          16       0.00      0.00      0.00         2\n",
      "          17       0.00      0.00      0.00         1\n",
      "          18       0.00      0.00      0.00         4\n",
      "          19       0.00      0.00      0.00         3\n",
      "          20       0.00      0.00      0.00         3\n",
      "          21       0.12      0.04      0.06        25\n",
      "          22       0.08      0.06      0.07        34\n",
      "          23       0.22      0.11      0.15        35\n",
      "          24       0.00      0.00      0.00        39\n",
      "          25       0.00      0.00      0.00        39\n",
      "          26       0.12      0.15      0.13        40\n",
      "          27       0.13      0.13      0.13        39\n",
      "          28       0.21      0.19      0.20        43\n",
      "          29       0.07      0.02      0.03        47\n",
      "          30       0.08      0.02      0.04        45\n",
      "          31       0.11      0.06      0.08        48\n",
      "          32       0.18      0.04      0.06        52\n",
      "          33       0.11      0.12      0.12        49\n",
      "          34       0.13      0.07      0.09        44\n",
      "          35       0.17      0.39      0.24        51\n",
      "          36       0.42      0.38      0.40        58\n",
      "          37       0.39      0.32      0.35        59\n",
      "          38       0.44      0.71      0.54        34\n",
      "          39       0.56      0.73      0.63        62\n",
      "          40       0.53      0.70      0.60        69\n",
      "          41       0.33      0.57      0.42        49\n",
      "          42       0.37      0.50      0.42        48\n",
      "          43       0.57      0.58      0.58        48\n",
      "          44       0.72      0.70      0.71        54\n",
      "          45       0.82      0.79      0.81        63\n",
      "          46       0.71      0.88      0.78        41\n",
      "          47       0.57      0.81      0.67        48\n",
      "          48       0.69      0.92      0.79        62\n",
      "          49       0.69      0.80      0.74        54\n",
      "          50       0.85      0.93      0.89        55\n",
      "          51       0.82      0.96      0.88        55\n",
      "          52       0.83      0.92      0.87        62\n",
      "          53       0.83      0.94      0.88        51\n",
      "          54       0.91      0.88      0.89        58\n",
      "          55       0.75      0.77      0.76        52\n",
      "          56       0.90      0.96      0.93        46\n",
      "          57       0.89      1.00      0.94        59\n",
      "          58       0.86      0.95      0.90        60\n",
      "          59       0.89      0.98      0.93        51\n",
      "          60       0.88      0.98      0.93        57\n",
      "          61       0.89      0.90      0.90        62\n",
      "          62       0.94      0.94      0.94        65\n",
      "          63       0.92      0.88      0.90        56\n",
      "          64       0.90      0.92      0.91        60\n",
      "          65       0.92      0.80      0.86        61\n",
      "          66       0.91      0.95      0.93        44\n",
      "          67       0.83      0.92      0.87        49\n",
      "          68       0.89      0.96      0.92        51\n",
      "          69       0.90      0.94      0.92        50\n",
      "          70       0.98      0.89      0.93        46\n",
      "          71       0.85      0.90      0.87        50\n",
      "          72       0.98      0.94      0.96        62\n",
      "          73       0.94      0.86      0.90        59\n",
      "          74       0.94      0.88      0.91        50\n",
      "          75       0.80      0.92      0.86        39\n",
      "          76       0.92      0.85      0.89        41\n",
      "          77       0.85      0.84      0.84        55\n",
      "          78       0.69      0.94      0.79        33\n",
      "          79       0.82      0.86      0.84        42\n",
      "          80       0.88      0.91      0.90        47\n",
      "          81       0.97      0.79      0.87        38\n",
      "          82       0.83      0.96      0.89        45\n",
      "          83       0.84      0.86      0.85        44\n",
      "          84       0.76      0.76      0.76        50\n",
      "          85       0.72      0.82      0.77        40\n",
      "          86       0.79      0.76      0.77        45\n",
      "          87       0.81      0.80      0.80        44\n",
      "          88       0.86      0.91      0.89        35\n",
      "          89       0.78      0.83      0.81        30\n",
      "          90       0.94      0.77      0.85        43\n",
      "          91       0.82      0.62      0.71        37\n",
      "          92       0.61      0.73      0.67        37\n",
      "          93       0.89      0.86      0.87        36\n",
      "          94       0.82      0.36      0.50        25\n",
      "          95       0.81      0.61      0.70        36\n",
      "          96       1.00      0.62      0.76        42\n",
      "          97       0.40      0.45      0.43        22\n",
      "          98       0.79      0.70      0.75        27\n",
      "          99       0.77      0.77      0.77        30\n",
      "         100       0.74      0.68      0.71        25\n",
      "         101       0.73      0.61      0.67        31\n",
      "         102       0.51      0.73      0.60        30\n",
      "         103       0.77      1.00      0.87        23\n",
      "         104       0.69      0.54      0.61        37\n",
      "         105       0.77      0.71      0.74        28\n",
      "         106       0.49      0.79      0.60        24\n",
      "         107       0.39      0.26      0.31        27\n",
      "         108       0.56      0.69      0.62        26\n",
      "         110       0.00      0.00      0.00         1\n",
      "         113       0.00      0.00      0.00         1\n",
      "         115       0.00      0.00      0.00         1\n",
      "         116       0.00      0.00      0.00         1\n",
      "         118       0.00      0.00      0.00         1\n",
      "         119       0.00      0.00      0.00         1\n",
      "\n",
      "    accuracy                           0.69      4000\n",
      "   macro avg       0.54      0.56      0.54      4000\n",
      "weighted avg       0.67      0.69      0.67      4000\n",
      "\n"
     ]
    },
    {
     "name": "stderr",
     "output_type": "stream",
     "text": [
      "/Users/cameronhudson/opt/anaconda3/lib/python3.8/site-packages/sklearn/metrics/_classification.py:1221: UndefinedMetricWarning: Precision and F-score are ill-defined and being set to 0.0 in labels with no predicted samples. Use `zero_division` parameter to control this behavior.\n",
      "  _warn_prf(average, modifier, msg_start, len(result))\n"
     ]
    }
   ],
   "source": [
    "print(classification_report(y_test, y_pred))"
   ]
  },
  {
   "attachments": {
    "graph1.png": {
     "image/png": "[encoded data removed]"
    },
    "graph2.png": {
     "image/png": "[encoded data removed]"
    },
    "graphs3.png": {
     "image/png": "[encoded data removed]"
    }
   },
   "cell_type": "markdown",
   "metadata": {},
   "source": [
    "After initial rounds of testing, Documented testing took place:\n",
    "\n",
    "Trail 1:\n",
    "* Train 20,000 samples\n",
    "* Test 1,000 samples\n",
    "* Validation 5,000 samples\n",
    "* With Early Stopping\n",
    "* Ran 3 EPOCHS with Accuracy of 58%\n",
    "![graph1.png](attachment:graph1.png)\n",
    "\n",
    "Trail 2:\n",
    "* Train 20,000 samples\n",
    "* Test 1,000 samples\n",
    "* Validation 5,000 samples\n",
    "* With NO Early Stopping\n",
    "* ~20 minutes to train model\n",
    "* Ran 3 EPOCHS with Accuracy of 61%\n",
    "![graph2.png](attachment:graph2.png)\n",
    "\n",
    "Trail 3:\n",
    "* Train 20,000 samples\n",
    "* Test 1,000 samples\n",
    "* Validation 1,000 samples\n",
    "* With Early Stopping\n",
    "* ~14 minutes to train model\n",
    "* Ran 7 EPOCHS with Accuracy of 62%\n",
    "![graphs3.png](attachment:graphs3.png)"
   ]
  },
  {
   "cell_type": "code",
   "execution_count": 64,
   "metadata": {},
   "outputs": [
    {
     "name": "stdout",
     "output_type": "stream",
     "text": [
      "Epoch 1/5\n",
      "625/625 [==============================] - 168s 268ms/step - loss: 1.3870 - accuracy: 0.6722 - val_loss: 0.4437 - val_accuracy: 0.8870\n",
      "Epoch 2/5\n",
      "625/625 [==============================] - 169s 270ms/step - loss: 0.4101 - accuracy: 0.8747 - val_loss: 0.4319 - val_accuracy: 0.8863\n",
      "Epoch 3/5\n",
      "625/625 [==============================] - 171s 273ms/step - loss: 0.2168 - accuracy: 0.9337 - val_loss: 0.4776 - val_accuracy: 0.8790\n",
      "Epoch 4/5\n",
      "625/625 [==============================] - 174s 279ms/step - loss: 0.1353 - accuracy: 0.9592 - val_loss: 0.4815 - val_accuracy: 0.9035\n",
      "Epoch 00004: early stopping\n"
     ]
    },
    {
     "data": {
      "text/plain": [
       "<tensorflow.python.keras.callbacks.History at 0x1d7ea8fb460>"
      ]
     },
     "execution_count": 64,
     "metadata": {},
     "output_type": "execute_result"
    }
   ],
   "source": [
    "# Convolutional Neural Network Attempt\n",
    "from keras.optimizers.schedules import ExponentialDecay\n",
    "\n",
    "norm_layer = preprocessing.Normalization()\n",
    "norm_layer.adapt(x_train_logmel)\n",
    "\n",
    "cnn1 = keras.Sequential([\n",
    "    layers.InputLayer(input_shape=x_train_logmel[0].shape),\n",
    "    norm_layer,  \n",
    "    layers.Conv2D(filters=32, \n",
    "                  kernel_size=(5,5),\n",
    "                  activation='relu',\n",
    "                  padding='valid',\n",
    "                  strides=(2,2)),\n",
    "    layers.Conv2D(filters=64,\n",
    "                  kernel_size=(3,3),\n",
    "                  activation='relu',\n",
    "                  padding='same'),\n",
    "    layers.MaxPooling2D(pool_size=(2,2)),\n",
    "    layers.Dropout(0.25),\n",
    "    \n",
    "    layers.Flatten(),\n",
    "    layers.Dense(512, activation='relu'),\n",
    "    layers.Dense(len(y_train_1hot[0]), activation='softmax')\n",
    "])\n",
    "\n",
    "#schedule1 = ExponentialDecay(initial_learning_rate=0.5, decay_steps=2000, decay_rate=0.95)\n",
    "amsgrad = keras.optimizers.Adam(amsgrad=True)\n",
    "cnn1.compile(optimizer=amsgrad, loss='categorical_crossentropy', metrics=['accuracy'])\n",
    "cnn1.fit(x_train_logmel, y_train_1hot, \n",
    "         batch_size=32, \n",
    "         epochs=5, \n",
    "         validation_data=(x_val_logmel, y_val_1hot), \n",
    "         callbacks=tf.keras.callbacks.EarlyStopping(verbose=1, patience=2))"
   ]
  },
  {
   "cell_type": "code",
   "execution_count": 65,
   "metadata": {},
   "outputs": [
    {
     "name": "stdout",
     "output_type": "stream",
     "text": [
      "125/125 - 8s - loss: 1.0563 - accuracy: 0.8375\n",
      "\n",
      "Test accuracy for CNN1: 83.75%\n"
     ]
    }
   ],
   "source": [
    "test_loss, test_acc = cnn1.evaluate(x_test_logmel,  y_test_1hot, verbose=2)\n",
    "print('\\nTest accuracy for CNN1:', '{:.2%}'.format(test_acc))"
   ]
  },
  {
   "cell_type": "code",
   "execution_count": 66,
   "metadata": {},
   "outputs": [],
   "source": [
    "cnn1.save('nsynth_cnn_classifier.h5')"
   ]
  },
  {
   "cell_type": "code",
   "execution_count": 67,
   "metadata": {},
   "outputs": [
    {
     "name": "stdout",
     "output_type": "stream",
     "text": [
      "Model: \"sequential_18\"\n",
      "_________________________________________________________________\n",
      "Layer (type)                 Output Shape              Param #   \n",
      "=================================================================\n",
      "normalization_16 (Normalizat (None, 128, 126, 1)       3         \n",
      "_________________________________________________________________\n",
      "conv2d_45 (Conv2D)           (None, 62, 61, 32)        832       \n",
      "_________________________________________________________________\n",
      "conv2d_46 (Conv2D)           (None, 62, 61, 64)        18496     \n",
      "_________________________________________________________________\n",
      "max_pooling2d_22 (MaxPooling (None, 31, 30, 64)        0         \n",
      "_________________________________________________________________\n",
      "dropout_26 (Dropout)         (None, 31, 30, 64)        0         \n",
      "_________________________________________________________________\n",
      "flatten_18 (Flatten)         (None, 59520)             0         \n",
      "_________________________________________________________________\n",
      "dense_36 (Dense)             (None, 512)               30474752  \n",
      "_________________________________________________________________\n",
      "dense_37 (Dense)             (None, 128)               65664     \n",
      "=================================================================\n",
      "Total params: 30,559,747\n",
      "Trainable params: 30,559,744\n",
      "Non-trainable params: 3\n",
      "_________________________________________________________________\n"
     ]
    }
   ],
   "source": [
    "cnn1.summary()"
   ]
  }
 ],
 "metadata": {
  "kernelspec": {
   "display_name": "Python 3",
   "language": "python",
   "name": "python3"
  },
  "language_info": {
   "codemirror_mode": {
    "name": "ipython",
    "version": 3
   },
   "file_extension": ".py",
   "mimetype": "text/x-python",
   "name": "python",
   "nbconvert_exporter": "python",
   "pygments_lexer": "ipython3",
   "version": "3.8.3"
  }
 },
 "nbformat": 4,
 "nbformat_minor": 4
}
