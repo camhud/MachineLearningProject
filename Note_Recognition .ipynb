{
 "cells": [
  {
   "cell_type": "code",
   "execution_count": 1,
   "metadata": {},
   "outputs": [],
   "source": [
    "import numpy as np\n",
    "import pandas as pd\n",
    "import seaborn as sns\n",
    "import matplotlib.pyplot as plt\n",
    "import tensorflow as tf\n",
    "tf.config.run_functions_eagerly(True)\n",
    "import os\n",
    "import pathlib\n",
    "# tensorflow 2.\n",
    "\n",
    "# Run in anaconda prompt first:\n",
    "# conda install -c conda-forge librosa\n",
    "import librosa\n",
    "import librosa.display\n",
    "\n",
    "#from sklearn.ensemble import RandomForestClassifier\n",
    "from sklearn.decomposition import PCA\n",
    "from sklearn.svm import SVC\n",
    "\n",
    "from tensorflow import keras \n",
    "from tensorflow.keras.layers.experimental import preprocessing\n",
    "from tensorflow.keras.models import Sequential \n",
    "from tensorflow.keras import optimizers\n",
    "from tensorflow.keras import layers\n",
    "from tensorflow.keras import models\n",
    "from IPython import display\n",
    "from sklearn.metrics import confusion_matrix, classification_report\n",
    "\n",
    "\n",
    "# Set seed for experiment reproducibility\n",
    "seed = 42\n",
    "tf.random.set_seed(seed)\n",
    "np.random.seed(seed)"
   ]
  },
  {
   "cell_type": "code",
   "execution_count": 2,
   "metadata": {},
   "outputs": [
    {
     "name": "stderr",
     "output_type": "stream",
     "text": [
      "C:\\Users\\flamestormp\\AppData\\Roaming\\Python\\Python38\\site-packages\\tensorflow\\python\\data\\ops\\dataset_ops.py:3349: UserWarning: Even though the tf.config.experimental_run_functions_eagerly option is set, this option does not apply to tf.data functions. tf.data functions are still traced and executed as graphs.\n",
      "  warnings.warn(\n"
     ]
    }
   ],
   "source": [
    "# Make sure you have the following files in the same directory as this ipynb:\n",
    "# 1. nsynth-test.tfrecord\n",
    "# 2. nsynth-train.tfrecord\n",
    "# 3. nsynth-valid.tfrecord\n",
    "\n",
    "nsynth_test = tf.data.TFRecordDataset(['nsynth-test.tfrecord'], num_parallel_reads=2)\n",
    "nsynth_train = tf.data.TFRecordDataset(['nsynth-train.tfrecord'], num_parallel_reads=2).shuffle(10000, seed=123)\n",
    "nsynth_valid = tf.data.TFRecordDataset(['nsynth-valid.tfrecord'], num_parallel_reads=2)"
   ]
  },
  {
   "cell_type": "code",
   "execution_count": 3,
   "metadata": {},
   "outputs": [],
   "source": [
    "# https://www.tensorflow.org/tutorials/load_data/tfrecord#read_the_tfrecord_file\n",
    "\n",
    "def get_features(record):\n",
    "    # We're only going to use a few features for now\n",
    "    features = {\n",
    "        # identifier string, this will be our label\n",
    "        #\"note_str\": tf.io.FixedLenFeature(shape=[], dtype=tf.string),\n",
    "        # MIDI tuning standard value for pitch\n",
    "        \"pitch\": tf.io.FixedLenFeature(shape=[], dtype=tf.int64),\n",
    "        # list of normalized audio 'samples' to represent the sound wave\n",
    "        \"audio\": tf.io.FixedLenFeature(shape=[64000], dtype=tf.float32)\n",
    "    }\n",
    "    sample = tf.io.parse_single_example(record, features)\n",
    "    \n",
    "    return sample"
   ]
  },
  {
   "cell_type": "code",
   "execution_count": 4,
   "metadata": {},
   "outputs": [],
   "source": [
    "# num classes in set of 1529 samples: 109 (without standardizing to 128 classes)\n",
    "test_ds = list(nsynth_test.take(4000).map(get_features))"
   ]
  },
  {
   "cell_type": "code",
   "execution_count": 5,
   "metadata": {},
   "outputs": [
    {
     "data": {
      "text/plain": [
       "<tf.Tensor: shape=(64000,), dtype=float32, numpy=\n",
       "array([ 3.8138387e-06, -3.8721851e-06,  3.9331076e-06, ...,\n",
       "       -3.6526076e-06,  3.7041993e-06, -3.7578957e-06], dtype=float32)>"
      ]
     },
     "execution_count": 5,
     "metadata": {},
     "output_type": "execute_result"
    }
   ],
   "source": [
    "# Note about how our audio feature is structured:\n",
    "#\n",
    "# 4 seconds * 16000 samples per second = 64000 samples\n",
    "# We only have one channel (these sound clips are mono)\n",
    "# Dynamic range of 16-bit PCM WAV (-2^15, 2^15 - 1) normalized to (-1, 1)\n",
    "\n",
    "\n",
    "# We get the first sample in our test dataset as an example\n",
    "clip1 = test_ds[0]['audio']\n",
    "clip1"
   ]
  },
  {
   "cell_type": "code",
   "execution_count": 6,
   "metadata": {},
   "outputs": [
    {
     "name": "stderr",
     "output_type": "stream",
     "text": [
      "C:\\Users\\flamestormp\\anaconda3\\lib\\site-packages\\librosa\\display.py:974: MatplotlibDeprecationWarning: The 'basey' parameter of __init__() has been renamed 'base' since Matplotlib 3.3; support for the old name will be dropped two minor releases later.\n",
      "  scaler(mode, **kwargs)\n",
      "C:\\Users\\flamestormp\\anaconda3\\lib\\site-packages\\librosa\\display.py:974: MatplotlibDeprecationWarning: The 'linthreshy' parameter of __init__() has been renamed 'linthresh' since Matplotlib 3.3; support for the old name will be dropped two minor releases later.\n",
      "  scaler(mode, **kwargs)\n"
     ]
    },
    {
     "data": {
      "image/png": "[encoded data removed]",
      "text/plain": [
       "<Figure size 432x288 with 2 Axes>"
      ]
     },
     "metadata": {
      "needs_background": "light"
     },
     "output_type": "display_data"
    }
   ],
   "source": [
    "# A mel spectrogram. A spectrogram visualizes a signal's amplitude at different \n",
    "# frequencies over time. The mel scale is used because human perception of pitch\n",
    "# is not linear. We use the mel scale because we want to retrieve the \n",
    "# Mel-frequency Cepstral Coefficients (MFCCs).\n",
    "sample_rate = 16000\n",
    "S = librosa.feature.melspectrogram(np.array(clip1), sr=sample_rate, n_fft=2048, hop_length=512)\n",
    "\n",
    "# amplitude to decibels, relative to maximum value in audio clip\n",
    "S_DB = librosa.power_to_db(S, ref=np.max)\n",
    "\n",
    "# plot\n",
    "librosa.display.specshow(S_DB, sr=sample_rate, x_axis='time', y_axis='mel')\n",
    "plt.colorbar(format='%+2.0f dB');"
   ]
  },
  {
   "cell_type": "code",
   "execution_count": 7,
   "metadata": {},
   "outputs": [
    {
     "data": {
      "text/plain": [
       "(13, 126)"
      ]
     },
     "execution_count": 7,
     "metadata": {},
     "output_type": "execute_result"
    },
    {
     "data": {
      "image/png": "[encoded data removed]",
      "text/plain": [
       "<Figure size 432x288 with 2 Axes>"
      ]
     },
     "metadata": {
      "needs_background": "light"
     },
     "output_type": "display_data"
    }
   ],
   "source": [
    "# try getting mfccs with librosa, see below for tensorflow version\n",
    "\n",
    "MFCC = librosa.feature.mfcc(np.array(clip1), sr=sample_rate, n_mfcc=13)\n",
    "fig, ax = plt.subplots()\n",
    "img = librosa.display.specshow(MFCC, x_axis='time', ax=ax)\n",
    "fig.colorbar(img, ax=ax)\n",
    "ax.set(title='MFCC')\n",
    "MFCC.shape"
   ]
  },
  {
   "cell_type": "code",
   "execution_count": 8,
   "metadata": {},
   "outputs": [
    {
     "name": "stderr",
     "output_type": "stream",
     "text": [
      "C:\\Users\\flamestormp\\anaconda3\\lib\\site-packages\\sklearn\\preprocessing\\_data.py:174: UserWarning: Numerical issues were encountered when centering the data and might not be solved. Dataset may contain too large values. You may need to prescale your features.\n",
      "  warnings.warn(\"Numerical issues were encountered \"\n",
      "C:\\Users\\flamestormp\\anaconda3\\lib\\site-packages\\sklearn\\preprocessing\\_data.py:191: UserWarning: Numerical issues were encountered when scaling the data and might not be solved. The standard deviation of the data is probably very close to 0. \n",
      "  warnings.warn(\"Numerical issues were encountered \"\n"
     ]
    },
    {
     "data": {
      "text/plain": [
       "(13, 126)"
      ]
     },
     "execution_count": 8,
     "metadata": {},
     "output_type": "execute_result"
    },
    {
     "data": {
      "image/png": "[encoded data removed]",
      "text/plain": [
       "<Figure size 432x288 with 1 Axes>"
      ]
     },
     "metadata": {
      "needs_background": "light"
     },
     "output_type": "display_data"
    }
   ],
   "source": [
    "# scaled mfccs\n",
    "from sklearn import preprocessing as pre\n",
    "\n",
    "MFCC = pre.scale(MFCC, axis=1)\n",
    "librosa.display.specshow(MFCC, sr=sample_rate, x_axis='time')\n",
    "MFCC.shape"
   ]
  },
  {
   "cell_type": "code",
   "execution_count": 9,
   "metadata": {},
   "outputs": [
    {
     "name": "stdout",
     "output_type": "stream",
     "text": [
      "Frequency:  2637.02045530296\n",
      "Note:  E7\n"
     ]
    }
   ],
   "source": [
    "# temporarily borrowing code just for demonstration purposes\n",
    "\n",
    "def midi_pitch_to_frequency(d):\n",
    "    return (2**((d-69)/12.0))*440.0\n",
    "\n",
    "from math import log2, pow\n",
    "\n",
    "A4 = 440\n",
    "C0 = A4*pow(2, -4.75)\n",
    "name = [\"C\", \"C#\", \"D\", \"D#\", \"E\", \"F\", \"F#\", \"G\", \"G#\", \"A\", \"A#\", \"B\"]\n",
    "    \n",
    "def frequency_to_note(freq):\n",
    "    h = round(12*log2(freq/C0))\n",
    "    octave = h // 12\n",
    "    n = h % 12\n",
    "    return name[n] + str(octave)\n",
    "\n",
    "def midi_pitch_to_note(d):\n",
    "    return frequency_to_note(midi_pitch_to_frequency(d))\n",
    "\n",
    "f = midi_pitch_to_frequency(100)\n",
    "print(\"Frequency: \", f)\n",
    "print(\"Note: \", frequency_to_note(f))\n"
   ]
  },
  {
   "cell_type": "code",
   "execution_count": 10,
   "metadata": {},
   "outputs": [
    {
     "data": {
      "text/plain": [
       "<tf.Tensor: shape=(), dtype=int64, numpy=100>"
      ]
     },
     "execution_count": 10,
     "metadata": {},
     "output_type": "execute_result"
    }
   ],
   "source": [
    "test_note = test_ds[0]['pitch']\n",
    "test_note\n",
    "# We can observe a few things from the previous 3 results:\n",
    "\n",
    "# 1. Our first audio clip has midi pitch value 100, which encodes the note E7. \n",
    "# 2. The note E7 has the fundamental frequency 2637 Hz.\n",
    "# 3. The spectogram above has frequency ~2700 Hz most represented."
   ]
  },
  {
   "cell_type": "code",
   "execution_count": 11,
   "metadata": {},
   "outputs": [],
   "source": [
    "# https://www.tensorflow.org/api_docs/python/tf/signal/mfccs_from_log_mel_spectrograms\n",
    "# https://en.wikipedia.org/wiki/Mel-frequency_cepstrum\n",
    "\n",
    "def to_mfccs(audio_array):\n",
    "    return librosa.feature.mfcc(audio_array, sr=sample_rate, n_mfcc=40).flatten()\n",
    "\n",
    "def to_mfccs_noflatten(audio_array):\n",
    "    return librosa.feature.mfcc(audio_array, sr=sample_rate, n_mfcc=40)\n",
    "\n",
    "# result: we go from 64,000 samples to 247x20 coefficients. \n",
    "# huge reduction in feature space!"
   ]
  },
  {
   "cell_type": "code",
   "execution_count": 12,
   "metadata": {},
   "outputs": [
    {
     "name": "stderr",
     "output_type": "stream",
     "text": [
      "C:\\Users\\flamestormp\\AppData\\Roaming\\Python\\Python38\\site-packages\\tensorflow\\python\\data\\ops\\dataset_ops.py:3349: UserWarning: Even though the tf.config.experimental_run_functions_eagerly option is set, this option does not apply to tf.data functions. tf.data functions are still traced and executed as graphs.\n",
      "  warnings.warn(\n"
     ]
    }
   ],
   "source": [
    "# Trim 289,205 training samples down to at least 20,000\n",
    "# Too many samples takes too long to load and uses a lot of RAM\n",
    "\n",
    "# num classes in set of 20000 samples: 110 (without standardizing to 128 classes)\n",
    "train_ds = list(nsynth_train.take(20000).map(get_features))\n",
    "\n",
    "# num classes in set of 9000 sample: 109 (without standardizing to 128 classes)\n",
    "#train_ds = list(nsynth_train.take(9000).map(get_features))"
   ]
  },
  {
   "cell_type": "code",
   "execution_count": 13,
   "metadata": {},
   "outputs": [],
   "source": [
    "sample_rate = 16000\n",
    "# We trimmed 4096 test samples down to 1000 \n",
    "# X terms for train and test are used for SVM, the Y terms will be used for all models\n",
    "\n",
    "y_test = [test_ds[i]['pitch'].numpy() for i in range(len(test_ds))]\n",
    "x_test = [to_mfccs(test_ds[i]['audio'].numpy()) for i in range(len(test_ds))]\n",
    "\n",
    "y_train = [train_ds[i]['pitch'].numpy() for i in range(len(train_ds))]\n",
    "x_train = [to_mfccs(train_ds[i]['audio'].numpy()) for i in range(len(train_ds))]"
   ]
  },
  {
   "cell_type": "code",
   "execution_count": null,
   "metadata": {},
   "outputs": [],
   "source": [
    "#svm_clf = SVC()\n",
    "#svm_clf.fit(x_train, y_train)\n",
    "#svm_y_predict = svm_clf.predict(x_test)"
   ]
  },
  {
   "cell_type": "code",
   "execution_count": null,
   "metadata": {
    "scrolled": true
   },
   "outputs": [],
   "source": [
    "#print(classification_report(y_test, svm_y_predict))"
   ]
  },
  {
   "cell_type": "code",
   "execution_count": 16,
   "metadata": {},
   "outputs": [],
   "source": [
    "x_train_nf = [to_mfccs_noflatten(train_ds[i]['audio'].numpy()) for i in range(len(train_ds))]\n",
    "x_test_nf = [to_mfccs_noflatten(test_ds[i]['audio'].numpy()) for i in range(len(test_ds))]\n",
    "\n",
    "x_train_nf = np.asarray(x_train_nf)\n",
    "x_test_nf = np.asarray(x_test_nf)\n",
    "\n",
    "# only used for first CNN\n",
    "y_train_ar = np.asarray(y_train)"
   ]
  },
  {
   "cell_type": "code",
   "execution_count": null,
   "metadata": {},
   "outputs": [],
   "source": [
    "valid_ds = list(nsynth_valid.take(4000).map(get_features))\n",
    "y_val = [valid_ds[i]['pitch'].numpy() for i in range(len(valid_ds))]"
   ]
  },
  {
   "cell_type": "code",
   "execution_count": 14,
   "metadata": {},
   "outputs": [],
   "source": [
    "x_val_nf = [to_mfccs_noflatten(valid_ds[i]['audio'].numpy()) for i in range(len(valid_ds))]\n",
    "x_val_nf = np.asarray(x_val_nf)\n",
    "\n",
    "# only used for first CNN\n",
    "y_val_ar = np.asarray(y_val)"
   ]
  },
  {
   "cell_type": "code",
   "execution_count": 41,
   "metadata": {},
   "outputs": [
    {
     "data": {
      "text/plain": [
       "(40, 126, 1)"
      ]
     },
     "execution_count": 41,
     "metadata": {},
     "output_type": "execute_result"
    }
   ],
   "source": [
    "from numpy import newaxis\n",
    "x_val3d = x_val_nf[:, :, :, newaxis]\n",
    "x_val3d[0].shape"
   ]
  },
  {
   "cell_type": "code",
   "execution_count": 42,
   "metadata": {},
   "outputs": [
    {
     "data": {
      "text/plain": [
       "(40, 126, 1)"
      ]
     },
     "execution_count": 42,
     "metadata": {},
     "output_type": "execute_result"
    }
   ],
   "source": [
    "x_train3d = x_train_nf[:, :, :, newaxis]\n",
    "x_train3d[0].shape"
   ]
  },
  {
   "cell_type": "code",
   "execution_count": 15,
   "metadata": {},
   "outputs": [
    {
     "data": {
      "text/plain": [
       "128"
      ]
     },
     "execution_count": 15,
     "metadata": {},
     "output_type": "execute_result"
    }
   ],
   "source": [
    "from keras.utils import to_categorical\n",
    "\n",
    "y_train_1hot = to_categorical(y_train, num_classes=128)\n",
    "y_test_1hot  = to_categorical(y_test, num_classes=128)\n",
    "y_val_1hot = to_categorical(y_val, num_classes=128)\n",
    "len(y_train_1hot[0])"
   ]
  },
  {
   "cell_type": "code",
   "execution_count": 46,
   "metadata": {
    "scrolled": true
   },
   "outputs": [
    {
     "name": "stdout",
     "output_type": "stream",
     "text": [
      "Input shape: (40, 126, 1)\n",
      "Model: \"sequential_6\"\n",
      "_________________________________________________________________\n",
      "Layer (type)                 Output Shape              Param #   \n",
      "=================================================================\n",
      "resizing_3 (Resizing)        (None, 32, 32, 1)         0         \n",
      "_________________________________________________________________\n",
      "normalization_3 (Normalizati (None, 32, 32, 126)       253       \n",
      "_________________________________________________________________\n",
      "conv2d_6 (Conv2D)            (None, 30, 30, 32)        36320     \n",
      "_________________________________________________________________\n",
      "conv2d_7 (Conv2D)            (None, 28, 28, 64)        18496     \n",
      "_________________________________________________________________\n",
      "max_pooling2d_3 (MaxPooling2 (None, 14, 14, 64)        0         \n",
      "_________________________________________________________________\n",
      "dropout_9 (Dropout)          (None, 14, 14, 64)        0         \n",
      "_________________________________________________________________\n",
      "flatten_6 (Flatten)          (None, 12544)             0         \n",
      "_________________________________________________________________\n",
      "dense_12 (Dense)             (None, 128)               1605760   \n",
      "_________________________________________________________________\n",
      "dropout_10 (Dropout)         (None, 128)               0         \n",
      "_________________________________________________________________\n",
      "dense_13 (Dense)             (None, 128)               16512     \n",
      "=================================================================\n",
      "Total params: 1,677,341\n",
      "Trainable params: 1,677,088\n",
      "Non-trainable params: 253\n",
      "_________________________________________________________________\n"
     ]
    }
   ],
   "source": [
    "input_shape = x_train3d[0].shape\n",
    "\n",
    "print('Input shape:', input_shape)\n",
    "num_labels = len(y_train_1hot[0])\n",
    "\n",
    "norm_layer = preprocessing.Normalization()\n",
    "norm_layer.adapt(x_train_nf)\n",
    "\n",
    "model = models.Sequential([\n",
    "    layers.Input(shape=input_shape),\n",
    "    preprocessing.Resizing(32, 32), \n",
    "    norm_layer,  \n",
    "    layers.Conv2D(32, 3, activation='relu'),\n",
    "    layers.Conv2D(64, 3, activation='relu'),\n",
    "    layers.MaxPooling2D(),\n",
    "    layers.Dropout(0.25),\n",
    "    layers.Flatten(),\n",
    "    layers.Dense(128, activation='relu'),\n",
    "    layers.Dropout(0.5),\n",
    "    layers.Dense(num_labels),\n",
    "])\n",
    "\n",
    "model.summary()"
   ]
  },
  {
   "cell_type": "code",
   "execution_count": 47,
   "metadata": {},
   "outputs": [],
   "source": [
    "model.compile(\n",
    "    optimizer=tf.keras.optimizers.Adam(),\n",
    "    loss=tf.keras.losses.SparseCategoricalCrossentropy(from_logits=True),\n",
    "    metrics=['accuracy'],\n",
    ")"
   ]
  },
  {
   "cell_type": "code",
   "execution_count": 48,
   "metadata": {
    "scrolled": false
   },
   "outputs": [
    {
     "name": "stdout",
     "output_type": "stream",
     "text": [
      "Epoch 1/10\n",
      "625/625 [==============================] - 113s 180ms/step - loss: 2.8894 - accuracy: 0.3277 - val_loss: 1.5966 - val_accuracy: 0.6028\n",
      "Epoch 2/10\n",
      "625/625 [==============================] - 113s 182ms/step - loss: 1.8187 - accuracy: 0.5052 - val_loss: 1.5315 - val_accuracy: 0.6030\n",
      "Epoch 3/10\n",
      "625/625 [==============================] - 136s 217ms/step - loss: 1.5007 - accuracy: 0.5649 - val_loss: 1.4880 - val_accuracy: 0.6352\n",
      "Epoch 4/10\n",
      "625/625 [==============================] - 127s 203ms/step - loss: 1.3243 - accuracy: 0.6053 - val_loss: 1.5001 - val_accuracy: 0.6400\n",
      "Epoch 5/10\n",
      "625/625 [==============================] - 120s 193ms/step - loss: 1.2153 - accuracy: 0.6263 - val_loss: 1.4801 - val_accuracy: 0.6395\n",
      "Epoch 6/10\n",
      "625/625 [==============================] - 120s 192ms/step - loss: 1.1138 - accuracy: 0.6518 - val_loss: 1.5928 - val_accuracy: 0.6375\n",
      "Epoch 7/10\n",
      "625/625 [==============================] - 122s 196ms/step - loss: 1.0495 - accuracy: 0.6711 - val_loss: 1.6266 - val_accuracy: 0.6438\n",
      "Epoch 00007: early stopping\n"
     ]
    }
   ],
   "source": [
    "EPOCHS = 10\n",
    "history = model.fit(\n",
    "    x_train3d, \n",
    "    y_train_ar, \n",
    "    validation_data= (x_val3d, y_val_ar),  \n",
    "    epochs=EPOCHS,\n",
    "    callbacks=tf.keras.callbacks.EarlyStopping(verbose=1, patience=2),\n",
    ")"
   ]
  },
  {
   "cell_type": "code",
   "execution_count": 49,
   "metadata": {
    "scrolled": false
   },
   "outputs": [
    {
     "data": {
      "image/png": "[encoded data removed]",
      "text/plain": [
       "<Figure size 432x288 with 1 Axes>"
      ]
     },
     "metadata": {
      "needs_background": "light"
     },
     "output_type": "display_data"
    }
   ],
   "source": [
    "metrics = history.history\n",
    "plt.plot(history.epoch, metrics['loss'], metrics['val_loss'])\n",
    "plt.legend(['loss', 'val_loss'])\n",
    "plt.show()"
   ]
  },
  {
   "cell_type": "code",
   "execution_count": 50,
   "metadata": {},
   "outputs": [
    {
     "name": "stdout",
     "output_type": "stream",
     "text": [
      "Test set accuracy: 60%\n"
     ]
    }
   ],
   "source": [
    "y_pred = np.argmax(model.predict(x_test_nf), axis=1)\n",
    "y_true = y_test\n",
    "\n",
    "test_acc = sum(y_pred == y_true) / len(y_true)\n",
    "print(f'Test set accuracy: {test_acc:.0%}')"
   ]
  },
  {
   "cell_type": "code",
   "execution_count": 55,
   "metadata": {
    "scrolled": true
   },
   "outputs": [
    {
     "data": {
      "text/html": [
       "<div>\n",
       "<style scoped>\n",
       "    .dataframe tbody tr th:only-of-type {\n",
       "        vertical-align: middle;\n",
       "    }\n",
       "\n",
       "    .dataframe tbody tr th {\n",
       "        vertical-align: top;\n",
       "    }\n",
       "\n",
       "    .dataframe thead th {\n",
       "        text-align: right;\n",
       "    }\n",
       "</style>\n",
       "<table border=\"1\" class=\"dataframe\">\n",
       "  <thead>\n",
       "    <tr style=\"text-align: right;\">\n",
       "      <th></th>\n",
       "      <th>Target: A#-1</th>\n",
       "      <th>Target: B-1</th>\n",
       "      <th>Target: C0</th>\n",
       "      <th>Target: C#0</th>\n",
       "      <th>Target: D0</th>\n",
       "      <th>Target: D#0</th>\n",
       "      <th>Target: E0</th>\n",
       "      <th>Target: F0</th>\n",
       "      <th>Target: F#0</th>\n",
       "      <th>Target: G0</th>\n",
       "      <th>...</th>\n",
       "      <th>Target: A#7</th>\n",
       "      <th>Target: B7</th>\n",
       "      <th>Target: C8</th>\n",
       "      <th>Target: C#8</th>\n",
       "      <th>Target: D8</th>\n",
       "      <th>Target: D#8</th>\n",
       "      <th>Target: E8</th>\n",
       "      <th>Target: F8</th>\n",
       "      <th>Target: F#8</th>\n",
       "      <th>Target: G8</th>\n",
       "    </tr>\n",
       "  </thead>\n",
       "  <tbody>\n",
       "    <tr>\n",
       "      <th>Predict: A#-1</th>\n",
       "      <td>0</td>\n",
       "      <td>0</td>\n",
       "      <td>0</td>\n",
       "      <td>0</td>\n",
       "      <td>0</td>\n",
       "      <td>0</td>\n",
       "      <td>0</td>\n",
       "      <td>0</td>\n",
       "      <td>0</td>\n",
       "      <td>0</td>\n",
       "      <td>...</td>\n",
       "      <td>0</td>\n",
       "      <td>0</td>\n",
       "      <td>0</td>\n",
       "      <td>0</td>\n",
       "      <td>0</td>\n",
       "      <td>0</td>\n",
       "      <td>0</td>\n",
       "      <td>0</td>\n",
       "      <td>0</td>\n",
       "      <td>0</td>\n",
       "    </tr>\n",
       "    <tr>\n",
       "      <th>Predict: B-1</th>\n",
       "      <td>0</td>\n",
       "      <td>0</td>\n",
       "      <td>0</td>\n",
       "      <td>0</td>\n",
       "      <td>0</td>\n",
       "      <td>0</td>\n",
       "      <td>0</td>\n",
       "      <td>0</td>\n",
       "      <td>0</td>\n",
       "      <td>0</td>\n",
       "      <td>...</td>\n",
       "      <td>0</td>\n",
       "      <td>0</td>\n",
       "      <td>0</td>\n",
       "      <td>0</td>\n",
       "      <td>0</td>\n",
       "      <td>0</td>\n",
       "      <td>0</td>\n",
       "      <td>0</td>\n",
       "      <td>0</td>\n",
       "      <td>0</td>\n",
       "    </tr>\n",
       "    <tr>\n",
       "      <th>Predict: C0</th>\n",
       "      <td>0</td>\n",
       "      <td>0</td>\n",
       "      <td>0</td>\n",
       "      <td>0</td>\n",
       "      <td>0</td>\n",
       "      <td>0</td>\n",
       "      <td>0</td>\n",
       "      <td>0</td>\n",
       "      <td>0</td>\n",
       "      <td>0</td>\n",
       "      <td>...</td>\n",
       "      <td>0</td>\n",
       "      <td>0</td>\n",
       "      <td>0</td>\n",
       "      <td>0</td>\n",
       "      <td>0</td>\n",
       "      <td>0</td>\n",
       "      <td>0</td>\n",
       "      <td>0</td>\n",
       "      <td>0</td>\n",
       "      <td>0</td>\n",
       "    </tr>\n",
       "    <tr>\n",
       "      <th>Predict: C#0</th>\n",
       "      <td>0</td>\n",
       "      <td>0</td>\n",
       "      <td>0</td>\n",
       "      <td>0</td>\n",
       "      <td>0</td>\n",
       "      <td>0</td>\n",
       "      <td>0</td>\n",
       "      <td>0</td>\n",
       "      <td>0</td>\n",
       "      <td>0</td>\n",
       "      <td>...</td>\n",
       "      <td>0</td>\n",
       "      <td>0</td>\n",
       "      <td>0</td>\n",
       "      <td>0</td>\n",
       "      <td>0</td>\n",
       "      <td>0</td>\n",
       "      <td>0</td>\n",
       "      <td>0</td>\n",
       "      <td>0</td>\n",
       "      <td>0</td>\n",
       "    </tr>\n",
       "    <tr>\n",
       "      <th>Predict: D0</th>\n",
       "      <td>0</td>\n",
       "      <td>0</td>\n",
       "      <td>0</td>\n",
       "      <td>0</td>\n",
       "      <td>0</td>\n",
       "      <td>0</td>\n",
       "      <td>0</td>\n",
       "      <td>0</td>\n",
       "      <td>0</td>\n",
       "      <td>0</td>\n",
       "      <td>...</td>\n",
       "      <td>0</td>\n",
       "      <td>0</td>\n",
       "      <td>0</td>\n",
       "      <td>0</td>\n",
       "      <td>0</td>\n",
       "      <td>0</td>\n",
       "      <td>0</td>\n",
       "      <td>0</td>\n",
       "      <td>0</td>\n",
       "      <td>0</td>\n",
       "    </tr>\n",
       "    <tr>\n",
       "      <th>...</th>\n",
       "      <td>...</td>\n",
       "      <td>...</td>\n",
       "      <td>...</td>\n",
       "      <td>...</td>\n",
       "      <td>...</td>\n",
       "      <td>...</td>\n",
       "      <td>...</td>\n",
       "      <td>...</td>\n",
       "      <td>...</td>\n",
       "      <td>...</td>\n",
       "      <td>...</td>\n",
       "      <td>...</td>\n",
       "      <td>...</td>\n",
       "      <td>...</td>\n",
       "      <td>...</td>\n",
       "      <td>...</td>\n",
       "      <td>...</td>\n",
       "      <td>...</td>\n",
       "      <td>...</td>\n",
       "      <td>...</td>\n",
       "      <td>...</td>\n",
       "    </tr>\n",
       "    <tr>\n",
       "      <th>Predict: D#8</th>\n",
       "      <td>0</td>\n",
       "      <td>0</td>\n",
       "      <td>0</td>\n",
       "      <td>0</td>\n",
       "      <td>0</td>\n",
       "      <td>0</td>\n",
       "      <td>0</td>\n",
       "      <td>0</td>\n",
       "      <td>0</td>\n",
       "      <td>0</td>\n",
       "      <td>...</td>\n",
       "      <td>0</td>\n",
       "      <td>0</td>\n",
       "      <td>0</td>\n",
       "      <td>0</td>\n",
       "      <td>0</td>\n",
       "      <td>0</td>\n",
       "      <td>0</td>\n",
       "      <td>0</td>\n",
       "      <td>0</td>\n",
       "      <td>0</td>\n",
       "    </tr>\n",
       "    <tr>\n",
       "      <th>Predict: E8</th>\n",
       "      <td>0</td>\n",
       "      <td>0</td>\n",
       "      <td>0</td>\n",
       "      <td>0</td>\n",
       "      <td>0</td>\n",
       "      <td>0</td>\n",
       "      <td>0</td>\n",
       "      <td>0</td>\n",
       "      <td>0</td>\n",
       "      <td>0</td>\n",
       "      <td>...</td>\n",
       "      <td>0</td>\n",
       "      <td>0</td>\n",
       "      <td>0</td>\n",
       "      <td>0</td>\n",
       "      <td>0</td>\n",
       "      <td>0</td>\n",
       "      <td>0</td>\n",
       "      <td>0</td>\n",
       "      <td>0</td>\n",
       "      <td>0</td>\n",
       "    </tr>\n",
       "    <tr>\n",
       "      <th>Predict: F8</th>\n",
       "      <td>0</td>\n",
       "      <td>0</td>\n",
       "      <td>0</td>\n",
       "      <td>0</td>\n",
       "      <td>0</td>\n",
       "      <td>0</td>\n",
       "      <td>0</td>\n",
       "      <td>0</td>\n",
       "      <td>0</td>\n",
       "      <td>0</td>\n",
       "      <td>...</td>\n",
       "      <td>0</td>\n",
       "      <td>0</td>\n",
       "      <td>0</td>\n",
       "      <td>0</td>\n",
       "      <td>0</td>\n",
       "      <td>0</td>\n",
       "      <td>0</td>\n",
       "      <td>0</td>\n",
       "      <td>0</td>\n",
       "      <td>0</td>\n",
       "    </tr>\n",
       "    <tr>\n",
       "      <th>Predict: F#8</th>\n",
       "      <td>0</td>\n",
       "      <td>0</td>\n",
       "      <td>0</td>\n",
       "      <td>0</td>\n",
       "      <td>0</td>\n",
       "      <td>0</td>\n",
       "      <td>0</td>\n",
       "      <td>0</td>\n",
       "      <td>0</td>\n",
       "      <td>0</td>\n",
       "      <td>...</td>\n",
       "      <td>0</td>\n",
       "      <td>1</td>\n",
       "      <td>0</td>\n",
       "      <td>0</td>\n",
       "      <td>0</td>\n",
       "      <td>0</td>\n",
       "      <td>0</td>\n",
       "      <td>0</td>\n",
       "      <td>0</td>\n",
       "      <td>0</td>\n",
       "    </tr>\n",
       "    <tr>\n",
       "      <th>Predict: G8</th>\n",
       "      <td>0</td>\n",
       "      <td>0</td>\n",
       "      <td>0</td>\n",
       "      <td>0</td>\n",
       "      <td>0</td>\n",
       "      <td>0</td>\n",
       "      <td>0</td>\n",
       "      <td>0</td>\n",
       "      <td>0</td>\n",
       "      <td>0</td>\n",
       "      <td>...</td>\n",
       "      <td>0</td>\n",
       "      <td>0</td>\n",
       "      <td>0</td>\n",
       "      <td>0</td>\n",
       "      <td>0</td>\n",
       "      <td>0</td>\n",
       "      <td>0</td>\n",
       "      <td>0</td>\n",
       "      <td>0</td>\n",
       "      <td>0</td>\n",
       "    </tr>\n",
       "  </tbody>\n",
       "</table>\n",
       "<p>106 rows × 106 columns</p>\n",
       "</div>"
      ],
      "text/plain": [
       "               Target: A#-1  Target: B-1  Target: C0  Target: C#0  Target: D0  \\\n",
       "Predict: A#-1             0            0           0            0           0   \n",
       "Predict: B-1              0            0           0            0           0   \n",
       "Predict: C0               0            0           0            0           0   \n",
       "Predict: C#0              0            0           0            0           0   \n",
       "Predict: D0               0            0           0            0           0   \n",
       "...                     ...          ...         ...          ...         ...   \n",
       "Predict: D#8              0            0           0            0           0   \n",
       "Predict: E8               0            0           0            0           0   \n",
       "Predict: F8               0            0           0            0           0   \n",
       "Predict: F#8              0            0           0            0           0   \n",
       "Predict: G8               0            0           0            0           0   \n",
       "\n",
       "               Target: D#0  Target: E0  Target: F0  Target: F#0  Target: G0  \\\n",
       "Predict: A#-1            0           0           0            0           0   \n",
       "Predict: B-1             0           0           0            0           0   \n",
       "Predict: C0              0           0           0            0           0   \n",
       "Predict: C#0             0           0           0            0           0   \n",
       "Predict: D0              0           0           0            0           0   \n",
       "...                    ...         ...         ...          ...         ...   \n",
       "Predict: D#8             0           0           0            0           0   \n",
       "Predict: E8              0           0           0            0           0   \n",
       "Predict: F8              0           0           0            0           0   \n",
       "Predict: F#8             0           0           0            0           0   \n",
       "Predict: G8              0           0           0            0           0   \n",
       "\n",
       "               ...  Target: A#7  Target: B7  Target: C8  Target: C#8  \\\n",
       "Predict: A#-1  ...            0           0           0            0   \n",
       "Predict: B-1   ...            0           0           0            0   \n",
       "Predict: C0    ...            0           0           0            0   \n",
       "Predict: C#0   ...            0           0           0            0   \n",
       "Predict: D0    ...            0           0           0            0   \n",
       "...            ...          ...         ...         ...          ...   \n",
       "Predict: D#8   ...            0           0           0            0   \n",
       "Predict: E8    ...            0           0           0            0   \n",
       "Predict: F8    ...            0           0           0            0   \n",
       "Predict: F#8   ...            0           1           0            0   \n",
       "Predict: G8    ...            0           0           0            0   \n",
       "\n",
       "               Target: D8  Target: D#8  Target: E8  Target: F8  Target: F#8  \\\n",
       "Predict: A#-1           0            0           0           0            0   \n",
       "Predict: B-1            0            0           0           0            0   \n",
       "Predict: C0             0            0           0           0            0   \n",
       "Predict: C#0            0            0           0           0            0   \n",
       "Predict: D0             0            0           0           0            0   \n",
       "...                   ...          ...         ...         ...          ...   \n",
       "Predict: D#8            0            0           0           0            0   \n",
       "Predict: E8             0            0           0           0            0   \n",
       "Predict: F8             0            0           0           0            0   \n",
       "Predict: F#8            0            0           0           0            0   \n",
       "Predict: G8             0            0           0           0            0   \n",
       "\n",
       "               Target: G8  \n",
       "Predict: A#-1           0  \n",
       "Predict: B-1            0  \n",
       "Predict: C0             0  \n",
       "Predict: C#0            0  \n",
       "Predict: D0             0  \n",
       "...                   ...  \n",
       "Predict: D#8            0  \n",
       "Predict: E8             0  \n",
       "Predict: F8             0  \n",
       "Predict: F#8            0  \n",
       "Predict: G8             0  \n",
       "\n",
       "[106 rows x 106 columns]"
      ]
     },
     "execution_count": 55,
     "metadata": {},
     "output_type": "execute_result"
    }
   ],
   "source": [
    "cnn_cm = confusion_matrix(y_test, y_pred)\n",
    "mycolumns = [\"Target: \" + midi_pitch_to_note(i) for i in range(10,116)]\n",
    "myindices = [\"Predict: \" + midi_pitch_to_note(i) for i in range(10,116)]\n",
    "cnn_cm_df = pd.DataFrame(cnn_cm, index=myindices, columns=mycolumns)\n",
    "cnn_cm_df"
   ]
  },
  {
   "cell_type": "code",
   "execution_count": 56,
   "metadata": {
    "scrolled": true
   },
   "outputs": [
    {
     "name": "stdout",
     "output_type": "stream",
     "text": [
      "              precision    recall  f1-score   support\n",
      "\n",
      "           9       0.00      0.00      0.00         2\n",
      "          10       0.00      0.00      0.00         4\n",
      "          11       0.00      0.00      0.00         3\n",
      "          12       0.00      0.00      0.00         2\n",
      "          13       0.00      0.00      0.00         3\n",
      "          14       0.00      0.00      0.00         2\n",
      "          15       0.00      0.00      0.00         1\n",
      "          16       0.00      0.00      0.00         2\n",
      "          17       0.00      0.00      0.00         1\n",
      "          18       0.00      0.00      0.00         4\n",
      "          19       0.00      0.00      0.00         3\n",
      "          20       0.00      0.00      0.00         3\n",
      "          21       0.17      0.04      0.06        25\n",
      "          22       0.12      0.03      0.05        34\n",
      "          23       0.00      0.00      0.00        35\n",
      "          24       0.00      0.00      0.00        39\n",
      "          25       0.07      0.08      0.07        39\n",
      "          26       0.25      0.05      0.08        40\n",
      "          27       0.14      0.08      0.10        39\n",
      "          28       0.24      0.09      0.13        43\n",
      "          29       0.10      0.02      0.04        47\n",
      "          30       0.20      0.02      0.04        45\n",
      "          31       0.06      0.08      0.07        48\n",
      "          32       0.31      0.15      0.21        52\n",
      "          33       0.07      0.10      0.09        49\n",
      "          34       0.03      0.02      0.03        44\n",
      "          35       0.10      0.06      0.07        51\n",
      "          36       0.15      0.22      0.18        58\n",
      "          37       0.09      0.05      0.07        59\n",
      "          38       0.11      0.35      0.17        34\n",
      "          39       0.10      0.19      0.13        62\n",
      "          40       0.21      0.22      0.21        69\n",
      "          41       0.11      0.16      0.13        49\n",
      "          42       0.23      0.29      0.26        48\n",
      "          43       0.11      0.23      0.15        48\n",
      "          44       0.19      0.24      0.21        54\n",
      "          45       0.31      0.21      0.25        63\n",
      "          46       0.08      0.12      0.10        41\n",
      "          47       0.20      0.25      0.22        48\n",
      "          48       0.20      0.34      0.25        62\n",
      "          49       0.27      0.24      0.25        54\n",
      "          50       0.50      0.56      0.53        55\n",
      "          51       0.92      0.98      0.95        55\n",
      "          52       0.92      0.98      0.95        62\n",
      "          53       0.92      0.90      0.91        51\n",
      "          54       0.95      0.90      0.92        58\n",
      "          55       0.88      0.88      0.88        52\n",
      "          56       0.89      0.89      0.89        46\n",
      "          57       0.95      0.95      0.95        59\n",
      "          58       0.83      0.92      0.87        60\n",
      "          59       0.86      0.98      0.92        51\n",
      "          60       0.96      0.95      0.96        57\n",
      "          61       0.92      0.92      0.92        62\n",
      "          62       0.95      0.91      0.93        65\n",
      "          63       0.95      0.96      0.96        56\n",
      "          64       0.93      0.88      0.91        60\n",
      "          65       0.95      0.90      0.92        61\n",
      "          66       0.87      0.91      0.89        44\n",
      "          67       0.84      0.94      0.88        49\n",
      "          68       0.86      0.96      0.91        51\n",
      "          69       0.89      0.96      0.92        50\n",
      "          70       0.91      0.87      0.89        46\n",
      "          71       0.88      0.92      0.90        50\n",
      "          72       0.94      0.94      0.94        62\n",
      "          73       0.92      0.92      0.92        59\n",
      "          74       0.92      0.94      0.93        50\n",
      "          75       0.95      0.95      0.95        39\n",
      "          76       0.84      0.93      0.88        41\n",
      "          77       0.96      0.95      0.95        55\n",
      "          78       0.79      0.94      0.86        33\n",
      "          79       0.81      0.83      0.82        42\n",
      "          80       0.94      0.96      0.95        47\n",
      "          81       0.97      0.82      0.89        38\n",
      "          82       0.90      0.82      0.86        45\n",
      "          83       0.93      0.84      0.88        44\n",
      "          84       0.89      0.84      0.87        50\n",
      "          85       0.89      0.80      0.84        40\n",
      "          86       0.84      0.84      0.84        45\n",
      "          87       0.95      0.86      0.90        44\n",
      "          88       0.87      0.94      0.90        35\n",
      "          89       0.89      0.83      0.86        30\n",
      "          90       0.94      0.74      0.83        43\n",
      "          91       0.68      0.62      0.65        37\n",
      "          92       0.83      0.65      0.73        37\n",
      "          93       0.93      0.75      0.83        36\n",
      "          94       0.68      0.84      0.75        25\n",
      "          95       0.84      0.72      0.78        36\n",
      "          96       0.77      0.79      0.78        42\n",
      "          97       0.64      0.82      0.72        22\n",
      "          98       0.79      0.70      0.75        27\n",
      "          99       0.74      0.77      0.75        30\n",
      "         100       0.93      0.52      0.67        25\n",
      "         101       0.82      0.58      0.68        31\n",
      "         102       0.69      0.73      0.71        30\n",
      "         103       0.41      0.78      0.54        23\n",
      "         104       0.32      0.76      0.45        37\n",
      "         105       0.71      0.79      0.75        28\n",
      "         106       0.69      0.75      0.72        24\n",
      "         107       0.71      0.44      0.55        27\n",
      "         108       0.71      0.46      0.56        26\n",
      "         110       0.00      0.00      0.00         1\n",
      "         113       0.00      0.00      0.00         1\n",
      "         115       0.00      0.00      0.00         1\n",
      "         116       0.00      0.00      0.00         1\n",
      "         118       0.00      0.00      0.00         1\n",
      "         119       0.00      0.00      0.00         1\n",
      "\n",
      "    accuracy                           0.60      4000\n",
      "   macro avg       0.51      0.50      0.50      4000\n",
      "weighted avg       0.61      0.60      0.60      4000\n",
      "\n"
     ]
    },
    {
     "name": "stderr",
     "output_type": "stream",
     "text": [
      "/Users/cameronhudson/opt/anaconda3/lib/python3.8/site-packages/sklearn/metrics/_classification.py:1221: UndefinedMetricWarning: Precision and F-score are ill-defined and being set to 0.0 in labels with no predicted samples. Use `zero_division` parameter to control this behavior.\n",
      "  _warn_prf(average, modifier, msg_start, len(result))\n"
     ]
    }
   ],
   "source": [
    "print(classification_report(y_test, y_pred))"
   ]
  },
  {
   "attachments": {
    "graph1.png": {
     "image/png": "[encoded data removed]"
    },
    "graph2.png": {
     "image/png": "[encoded data removed]"
    },
    "graphs3.png": {
     "image/png": "[encoded data removed]"
    }
   },
   "cell_type": "markdown",
   "metadata": {},
   "source": [
    "After initial rounds of testing, Documented testing took place:\n",
    "\n",
    "Trail 1:\n",
    "* Train 20,000 samples\n",
    "* Test 1,000 samples\n",
    "* Validation 5,000 samples\n",
    "* With Early Stopping\n",
    "* Ran 3 EPOCHS with Accuracy of 58%\n",
    "![graph1.png](attachment:graph1.png)\n",
    "\n",
    "Trail 2:\n",
    "* Train 20,000 samples\n",
    "* Test 1,000 samples\n",
    "* Validation 5,000 samples\n",
    "* With NO Early Stopping\n",
    "* ~20 minutes to train model\n",
    "* Ran 3 EPOCHS with Accuracy of 61%\n",
    "![graph2.png](attachment:graph2.png)\n",
    "\n",
    "Trail 3:\n",
    "* Train 20,000 samples\n",
    "* Test 1,000 samples\n",
    "* Validation 1,000 samples\n",
    "* With Early Stopping\n",
    "* ~14 minutes to train model\n",
    "* Ran 7 EPOCHS with Accuracy of 62%\n",
    "![graphs3.png](attachment:graphs3.png)"
   ]
  },
  {
   "cell_type": "code",
   "execution_count": 16,
   "metadata": {},
   "outputs": [],
   "source": [
    "def to_log_melspectogram(audio_array):\n",
    "    sample_rate = 16000\n",
    "    S = librosa.feature.melspectrogram(audio_array, sr=sample_rate, n_fft=2048, hop_length=512)\n",
    "    # decibels are the log scale of amplitudes\n",
    "    S_DB = librosa.power_to_db(S, ref=np.max)\n",
    "    return S_DB"
   ]
  },
  {
   "cell_type": "code",
   "execution_count": 17,
   "metadata": {},
   "outputs": [],
   "source": [
    "x_train_logmel = [to_log_melspectogram(train_ds[i]['audio'].numpy()) for i in range(len(train_ds))]\n",
    "x_test_logmel = [to_log_melspectogram(test_ds[i]['audio'].numpy()) for i in range(len(test_ds))]\n",
    "x_val_logmel = [to_log_melspectogram(valid_ds[i]['audio'].numpy()) for i in range(len(valid_ds))]\n",
    "\n",
    "x_train_logmel = np.asarray(x_train_logmel)\n",
    "x_test_logmel = np.asarray(x_test_logmel)\n",
    "x_val_logmel = np.asarray(x_val_logmel)"
   ]
  },
  {
   "cell_type": "code",
   "execution_count": 25,
   "metadata": {},
   "outputs": [],
   "source": [
    "from numpy import newaxis\n",
    "\n",
    "x_train_logmel = x_train_logmel[:, :, :, newaxis]\n",
    "x_test_logmel = x_test_logmel[:, :, :, newaxis]\n",
    "x_val_logmel = x_val_logmel[:, :, :, newaxis]"
   ]
  },
  {
   "cell_type": "code",
   "execution_count": 26,
   "metadata": {},
   "outputs": [
    {
     "data": {
      "text/plain": [
       "(128, 126, 1)"
      ]
     },
     "execution_count": 26,
     "metadata": {},
     "output_type": "execute_result"
    }
   ],
   "source": [
    "x_train_logmel[0].shape"
   ]
  },
  {
   "cell_type": "code",
   "execution_count": null,
   "metadata": {},
   "outputs": [
    {
     "name": "stdout",
     "output_type": "stream",
     "text": [
      "Epoch 1/5\n",
      "427/625 [===================>..........] - ETA: 38s - loss: 1.6187 - accuracy: 0.6313"
     ]
    }
   ],
   "source": [
    "# Convolutional Neural Network Attempt\n",
    "from keras.optimizers.schedules import ExponentialDecay\n",
    "\n",
    "norm_layer = preprocessing.Normalization()\n",
    "norm_layer.adapt(x_train_logmel)\n",
    "\n",
    "cnn1 = keras.Sequential([\n",
    "    layers.InputLayer(input_shape=x_train_logmel[0].shape),\n",
    "    norm_layer,  \n",
    "    layers.Conv2D(filters=32, \n",
    "                  kernel_size=(5,5),\n",
    "                  activation='relu',\n",
    "                  padding='valid',\n",
    "                  strides=(2,2)),\n",
    "    layers.Conv2D(filters=64,\n",
    "                  kernel_size=(3,3),\n",
    "                  activation='relu',\n",
    "                  padding='same'),\n",
    "    layers.MaxPooling2D(pool_size=(2,2)),\n",
    "    layers.Dropout(0.25),\n",
    "    \n",
    "    layers.Flatten(),\n",
    "    layers.Dense(512, activation='relu'),\n",
    "    layers.Dense(len(y_train_1hot[0]), activation='softmax')\n",
    "])\n",
    "\n",
    "#schedule1 = ExponentialDecay(initial_learning_rate=0.5, decay_steps=2000, decay_rate=0.95)\n",
    "#opt1 = keras.optimizers.Adam(learning_rate=schedule1)\n",
    "cnn1.compile(optimizer='adam', loss='categorical_crossentropy', metrics=['accuracy'])\n",
    "cnn1.fit(x_train_logmel, y_train_1hot, batch_size=32, epochs=5, validation_data=(x_val_logmel, y_val_1hot))"
   ]
  },
  {
   "cell_type": "code",
   "execution_count": 38,
   "metadata": {},
   "outputs": [
    {
     "name": "stdout",
     "output_type": "stream",
     "text": [
      "125/125 - 7s - loss: 0.9959 - accuracy: 0.8245\n",
      "\n",
      "Test accuracy for CNN1: 82.45%\n"
     ]
    }
   ],
   "source": [
    "test_loss, test_acc = cnn1.evaluate(x_test_logmel,  y_test_1hot, verbose=2)\n",
    "print('\\nTest accuracy for CNN1:', '{:.2%}'.format(test_acc))"
   ]
  },
  {
   "cell_type": "code",
   "execution_count": null,
   "metadata": {},
   "outputs": [],
   "source": [
    "83.72"
   ]
  }
 ],
 "metadata": {
  "kernelspec": {
   "display_name": "Python 3",
   "language": "python",
   "name": "python3"
  },
  "language_info": {
   "codemirror_mode": {
    "name": "ipython",
    "version": 3
   },
   "file_extension": ".py",
   "mimetype": "text/x-python",
   "name": "python",
   "nbconvert_exporter": "python",
   "pygments_lexer": "ipython3",
   "version": "3.8.3"
  }
 },
 "nbformat": 4,
 "nbformat_minor": 4
}
